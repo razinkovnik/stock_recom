{
 "cells": [
  {
   "cell_type": "code",
   "execution_count": 1,
   "metadata": {
    "collapsed": true,
    "pycharm": {
     "is_executing": false,
     "name": "#%%\n"
    }
   },
   "outputs": [],
   "source": [
    "import pandas as pd"
   ]
  },
  {
   "cell_type": "code",
   "execution_count": 9,
   "outputs": [
    {
     "data": {
      "text/plain": "                  date         username  to  replies  retweets  favorites  \\\n0  2020-07-18 18:02:16  communiststocks NaN        0         0          0   \n1  2020-07-18 14:10:04     marketcycles NaN        0         0          0   \n2  2020-07-18 14:04:10     marketcycles NaN        0         0          0   \n3  2020-07-18 08:33:16    OlympiaReport NaN        0         0          0   \n4  2020-07-18 06:28:09  EnterpriseLeade NaN        0         0          0   \n5  2020-07-18 05:56:48  dailypoliticaln NaN        0         0          0   \n6  2020-07-18 05:55:22     TickerReport NaN        0         0          0   \n7  2020-07-17 18:04:58    TickwatcherMF NaN        0         0          0   \n8  2020-07-17 18:04:18    MITickWatcher NaN        0         0          0   \n9  2020-07-17 14:03:21   OptionsMaxPain NaN        0         0          0   \n\n                                                text  geo  mentions  \\\n0  Automatic Data Processing - $ADP QUOTE $ADP wa...  NaN       NaN   \n1  Directional Bias for Automatic Data Processing...  NaN       NaN   \n2  Automatic Data Processing $ADP Trading Report ...  NaN       NaN   \n3  Goldman Sachs Group Begins Coverage on Automat...  NaN       NaN   \n4  $3.29 Billion in Sales Expected for Automatic ...  NaN       NaN   \n5  $3.29 Billion in Sales Expected for Automatic ...  NaN       NaN   \n6  $3.29 Billion in Sales Expected for Automatic ...  NaN       NaN   \n7  Automatic Data Processing $ADP Has A Poor #Tec...  NaN       NaN   \n8  #Automatic Data Processing $ADP Has A Poor #Te...  NaN       NaN   \n9  $ADP Automatic Data Processing #Options Power,...  NaN       NaN   \n\n                                            hashtags                   id  \\\n0                                                NaN  1284549060452638720   \n1                                                NaN  1284490627661455364   \n2                                                NaN  1284489140814438400   \n3                                                NaN  1284405868772110336   \n4                                                NaN  1284374379552530432   \n5                                                NaN  1284366489789882369   \n6                                                NaN  1284366128278638597   \n7  #Technical #candle #momentum #stocks #stock #S...  1284187353133744128   \n8  #Automatic #Technical #candle #momentum #stock...  1284187184325636099   \n9  #Options #Options #maxpain #OptionsTrading #Op...  1284126548602368002   \n\n                                           permalink  \n0  https://twitter.com/communiststocks/status/128...  \n1  https://twitter.com/marketcycles/status/128449...  \n2  https://twitter.com/marketcycles/status/128448...  \n3  https://twitter.com/OlympiaReport/status/12844...  \n4  https://twitter.com/EnterpriseLeade/status/128...  \n5  https://twitter.com/dailypoliticaln/status/128...  \n6  https://twitter.com/TickerReport/status/128436...  \n7  https://twitter.com/TickwatcherMF/status/12841...  \n8  https://twitter.com/MITickWatcher/status/12841...  \n9  https://twitter.com/OptionsMaxPain/status/1284...  ",
      "text/html": "<div>\n<style scoped>\n    .dataframe tbody tr th:only-of-type {\n        vertical-align: middle;\n    }\n\n    .dataframe tbody tr th {\n        vertical-align: top;\n    }\n\n    .dataframe thead th {\n        text-align: right;\n    }\n</style>\n<table border=\"1\" class=\"dataframe\">\n  <thead>\n    <tr style=\"text-align: right;\">\n      <th></th>\n      <th>date</th>\n      <th>username</th>\n      <th>to</th>\n      <th>replies</th>\n      <th>retweets</th>\n      <th>favorites</th>\n      <th>text</th>\n      <th>geo</th>\n      <th>mentions</th>\n      <th>hashtags</th>\n      <th>id</th>\n      <th>permalink</th>\n    </tr>\n  </thead>\n  <tbody>\n    <tr>\n      <th>0</th>\n      <td>2020-07-18 18:02:16</td>\n      <td>communiststocks</td>\n      <td>NaN</td>\n      <td>0</td>\n      <td>0</td>\n      <td>0</td>\n      <td>Automatic Data Processing - $ADP QUOTE $ADP wa...</td>\n      <td>NaN</td>\n      <td>NaN</td>\n      <td>NaN</td>\n      <td>1284549060452638720</td>\n      <td>https://twitter.com/communiststocks/status/128...</td>\n    </tr>\n    <tr>\n      <th>1</th>\n      <td>2020-07-18 14:10:04</td>\n      <td>marketcycles</td>\n      <td>NaN</td>\n      <td>0</td>\n      <td>0</td>\n      <td>0</td>\n      <td>Directional Bias for Automatic Data Processing...</td>\n      <td>NaN</td>\n      <td>NaN</td>\n      <td>NaN</td>\n      <td>1284490627661455364</td>\n      <td>https://twitter.com/marketcycles/status/128449...</td>\n    </tr>\n    <tr>\n      <th>2</th>\n      <td>2020-07-18 14:04:10</td>\n      <td>marketcycles</td>\n      <td>NaN</td>\n      <td>0</td>\n      <td>0</td>\n      <td>0</td>\n      <td>Automatic Data Processing $ADP Trading Report ...</td>\n      <td>NaN</td>\n      <td>NaN</td>\n      <td>NaN</td>\n      <td>1284489140814438400</td>\n      <td>https://twitter.com/marketcycles/status/128448...</td>\n    </tr>\n    <tr>\n      <th>3</th>\n      <td>2020-07-18 08:33:16</td>\n      <td>OlympiaReport</td>\n      <td>NaN</td>\n      <td>0</td>\n      <td>0</td>\n      <td>0</td>\n      <td>Goldman Sachs Group Begins Coverage on Automat...</td>\n      <td>NaN</td>\n      <td>NaN</td>\n      <td>NaN</td>\n      <td>1284405868772110336</td>\n      <td>https://twitter.com/OlympiaReport/status/12844...</td>\n    </tr>\n    <tr>\n      <th>4</th>\n      <td>2020-07-18 06:28:09</td>\n      <td>EnterpriseLeade</td>\n      <td>NaN</td>\n      <td>0</td>\n      <td>0</td>\n      <td>0</td>\n      <td>$3.29 Billion in Sales Expected for Automatic ...</td>\n      <td>NaN</td>\n      <td>NaN</td>\n      <td>NaN</td>\n      <td>1284374379552530432</td>\n      <td>https://twitter.com/EnterpriseLeade/status/128...</td>\n    </tr>\n    <tr>\n      <th>5</th>\n      <td>2020-07-18 05:56:48</td>\n      <td>dailypoliticaln</td>\n      <td>NaN</td>\n      <td>0</td>\n      <td>0</td>\n      <td>0</td>\n      <td>$3.29 Billion in Sales Expected for Automatic ...</td>\n      <td>NaN</td>\n      <td>NaN</td>\n      <td>NaN</td>\n      <td>1284366489789882369</td>\n      <td>https://twitter.com/dailypoliticaln/status/128...</td>\n    </tr>\n    <tr>\n      <th>6</th>\n      <td>2020-07-18 05:55:22</td>\n      <td>TickerReport</td>\n      <td>NaN</td>\n      <td>0</td>\n      <td>0</td>\n      <td>0</td>\n      <td>$3.29 Billion in Sales Expected for Automatic ...</td>\n      <td>NaN</td>\n      <td>NaN</td>\n      <td>NaN</td>\n      <td>1284366128278638597</td>\n      <td>https://twitter.com/TickerReport/status/128436...</td>\n    </tr>\n    <tr>\n      <th>7</th>\n      <td>2020-07-17 18:04:58</td>\n      <td>TickwatcherMF</td>\n      <td>NaN</td>\n      <td>0</td>\n      <td>0</td>\n      <td>0</td>\n      <td>Automatic Data Processing $ADP Has A Poor #Tec...</td>\n      <td>NaN</td>\n      <td>NaN</td>\n      <td>#Technical #candle #momentum #stocks #stock #S...</td>\n      <td>1284187353133744128</td>\n      <td>https://twitter.com/TickwatcherMF/status/12841...</td>\n    </tr>\n    <tr>\n      <th>8</th>\n      <td>2020-07-17 18:04:18</td>\n      <td>MITickWatcher</td>\n      <td>NaN</td>\n      <td>0</td>\n      <td>0</td>\n      <td>0</td>\n      <td>#Automatic Data Processing $ADP Has A Poor #Te...</td>\n      <td>NaN</td>\n      <td>NaN</td>\n      <td>#Automatic #Technical #candle #momentum #stock...</td>\n      <td>1284187184325636099</td>\n      <td>https://twitter.com/MITickWatcher/status/12841...</td>\n    </tr>\n    <tr>\n      <th>9</th>\n      <td>2020-07-17 14:03:21</td>\n      <td>OptionsMaxPain</td>\n      <td>NaN</td>\n      <td>0</td>\n      <td>0</td>\n      <td>0</td>\n      <td>$ADP Automatic Data Processing #Options Power,...</td>\n      <td>NaN</td>\n      <td>NaN</td>\n      <td>#Options #Options #maxpain #OptionsTrading #Op...</td>\n      <td>1284126548602368002</td>\n      <td>https://twitter.com/OptionsMaxPain/status/1284...</td>\n    </tr>\n  </tbody>\n</table>\n</div>"
     },
     "metadata": {},
     "output_type": "execute_result",
     "execution_count": 9
    }
   ],
   "source": [
    "df = pd.read_csv(\"../dataset/twitter/companies/ADP.csv\")\n",
    "df"
   ],
   "metadata": {
    "collapsed": false,
    "pycharm": {
     "name": "#%%\n",
     "is_executing": false
    }
   }
  },
  {
   "cell_type": "code",
   "execution_count": 10,
   "outputs": [
    {
     "data": {
      "text/plain": "'Goldman Sachs Group Begins Coverage on Automatic Data Processing $ADPhttp://theolympiareport.com/?p=2541071'"
     },
     "metadata": {},
     "output_type": "execute_result",
     "execution_count": 10
    }
   ],
   "source": [
    "df.text[3]\n"
   ],
   "metadata": {
    "collapsed": false,
    "pycharm": {
     "name": "#%%\n",
     "is_executing": false
    }
   }
  }
 ],
 "metadata": {
  "kernelspec": {
   "display_name": "Python 3",
   "language": "python",
   "name": "python3"
  },
  "language_info": {
   "codemirror_mode": {
    "name": "ipython",
    "version": 2
   },
   "file_extension": ".py",
   "mimetype": "text/x-python",
   "name": "python",
   "nbconvert_exporter": "python",
   "pygments_lexer": "ipython2",
   "version": "2.7.6"
  },
  "pycharm": {
   "stem_cell": {
    "cell_type": "raw",
    "source": [],
    "metadata": {
     "collapsed": false
    }
   }
  }
 },
 "nbformat": 4,
 "nbformat_minor": 0
}