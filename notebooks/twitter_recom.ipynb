{
 "cells": [
  {
   "cell_type": "code",
   "execution_count": 40,
   "metadata": {
    "collapsed": true,
    "pycharm": {
     "is_executing": false
    }
   },
   "outputs": [],
   "source": [
    "import pandas as pd\n",
    "from bert_args import TrainingArguments\n",
    "from twitter_sentiment import transform_dataset\n",
    "from typing import List, Tuple, Dict\n",
    "from transformers import BertTokenizer, BertForQuestionAnswering\n",
    "import torch"
   ]
  },
  {
   "cell_type": "code",
   "execution_count": 2,
   "outputs": [],
   "source": [
    "args = TrainingArguments()\n",
    "args.dataset = \"../\" + args.dataset\n",
    "args.train_dataset = \"../\" + args.train_dataset\n",
    "args.test_dataset = \"../\" + args.test_dataset\n",
    "transform_dataset(args)"
   ],
   "metadata": {
    "collapsed": false,
    "pycharm": {
     "name": "#%%\n",
     "is_executing": false
    }
   }
  },
  {
   "cell_type": "code",
   "execution_count": 35,
   "outputs": [],
   "source": [
    "train_data = pd.read_csv(args.test_dataset )\n",
    "train_data = list(zip(train_data.text, train_data.label))"
   ],
   "metadata": {
    "collapsed": false,
    "pycharm": {
     "name": "#%%\n",
     "is_executing": false
    }
   }
  },
  {
   "cell_type": "code",
   "execution_count": 20,
   "outputs": [
    {
     "data": {
      "text/plain": "[]"
     },
     "metadata": {},
     "output_type": "execute_result",
     "execution_count": 20
    }
   ],
   "source": [
    "list(map(list,zip(*train_data)))"
   ],
   "metadata": {
    "collapsed": false,
    "pycharm": {
     "name": "#%%\n",
     "is_executing": false
    }
   }
  },
  {
   "cell_type": "code",
   "execution_count": 38,
   "outputs": [],
   "source": [
    "def collate(data: List[Tuple[str, int]], tokenizer: BertTokenizer, block_size: int) -> Dict:\n",
    "    texts, labels = list(map(list,zip(*data)))\n",
    "    input_data = tokenizer.batch_encode_plus(texts, max_length=block_size,\n",
    "                                             truncation=True, pad_to_max_length=True, return_tensors=\"pt\").to(\n",
    "        args.device)\n",
    "    input_data['label'] = torch.tensor(labels).to(args.device)\n",
    "    return input_data"
   ],
   "metadata": {
    "collapsed": false,
    "pycharm": {
     "name": "#%%\n",
     "is_executing": false
    }
   }
  },
  {
   "cell_type": "code",
   "execution_count": 41,
   "outputs": [
    {
     "data": {
      "text/plain": "{'input_ids': tensor([[ 101, 2064, 1005,  ...,    0,    0,    0],\n        [ 101, 4918, 2439,  ...,    0,    0,    0],\n        [ 101, 2012, 2147,  ...,    0,    0,    0],\n        ...,\n        [ 101, 1054, 1012,  ...,    0,    0,    0],\n        [ 101, 4365, 2026,  ...,    0,    0,    0],\n        [ 101, 2717, 1999,  ...,    0,    0,    0]]), 'token_type_ids': tensor([[0, 0, 0,  ..., 0, 0, 0],\n        [0, 0, 0,  ..., 0, 0, 0],\n        [0, 0, 0,  ..., 0, 0, 0],\n        ...,\n        [0, 0, 0,  ..., 0, 0, 0],\n        [0, 0, 0,  ..., 0, 0, 0],\n        [0, 0, 0,  ..., 0, 0, 0]]), 'attention_mask': tensor([[1, 1, 1,  ..., 0, 0, 0],\n        [1, 1, 1,  ..., 0, 0, 0],\n        [1, 1, 1,  ..., 0, 0, 0],\n        ...,\n        [1, 1, 1,  ..., 0, 0, 0],\n        [1, 1, 1,  ..., 0, 0, 0],\n        [1, 1, 1,  ..., 0, 0, 0]]), 'label': tensor([0, 0, 0, 0, 0, 0, 0, 0, 0, 0])}"
     },
     "metadata": {},
     "output_type": "execute_result",
     "execution_count": 41
    }
   ],
   "source": [
    "collate(train_data[:10], BertTokenizer.from_pretrained(args.model_name), 256)\n"
   ],
   "metadata": {
    "collapsed": false,
    "pycharm": {
     "name": "#%%\n",
     "is_executing": false
    }
   }
  }
 ],
 "metadata": {
  "kernelspec": {
   "display_name": "Python 3",
   "language": "python",
   "name": "python3"
  },
  "language_info": {
   "codemirror_mode": {
    "name": "ipython",
    "version": 2
   },
   "file_extension": ".py",
   "mimetype": "text/x-python",
   "name": "python",
   "nbconvert_exporter": "python",
   "pygments_lexer": "ipython2",
   "version": "2.7.6"
  },
  "pycharm": {
   "stem_cell": {
    "cell_type": "raw",
    "source": [],
    "metadata": {
     "collapsed": false
    }
   }
  }
 },
 "nbformat": 4,
 "nbformat_minor": 0
}