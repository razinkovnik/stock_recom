<<<<<<< HEAD
{
 "cells": [
  {
   "cell_type": "code",
   "execution_count": 1,
   "outputs": [],
   "source": [
    "import pandas as pd\n",
    "import matplotlib.pyplot as plt\n",
    "import numpy as np\n",
    "import torch\n",
    "from sklearn.linear_model import LinearRegression\n",
    "from sklearn.preprocessing import MinMaxScaler\n",
    "\n",
    "from args import TrendArgs\n",
    "from company import Company"
   ],
   "metadata": {
    "collapsed": false,
    "pycharm": {
     "name": "#%%\n",
     "is_executing": false
    }
   }
  },
  {
   "cell_type": "code",
   "execution_count": 2,
   "outputs": [],
   "source": [
    "df = pd.read_csv(\"../dataset/companies.csv\")\n",
    "companies_name = df['0'].to_list()"
   ],
   "metadata": {
    "collapsed": false,
    "pycharm": {
     "name": "#%%\n",
     "is_executing": false
    }
   }
  },
  {
   "cell_type": "code",
   "execution_count": 3,
   "outputs": [],
   "source": [
    "args = TrendArgs()\n",
    "args.stock_dataset = \"../\" + args.stock_dataset\n",
    "args.model_path = \"../\" + args.model_path"
   ],
   "metadata": {
    "collapsed": false,
    "pycharm": {
     "name": "#%%\n",
     "is_executing": false
    }
   }
  },
  {
   "cell_type": "code",
   "execution_count": 37,
   "outputs": [
    {
     "data": {
      "text/plain": "[('ABMD', 0.39),\n ('AAP', 1.3),\n ('AEP', 0.25),\n ('COG', 0.41),\n ('CAH', 0.02),\n ('CHTR', 0.53),\n ('CVX', 0.15),\n ('CI', 0.47),\n ('CLX', 0.07),\n ('COST', 0.84),\n ('DVN', 6.69),\n ('FANG', 2.21),\n ('DG', 0.17),\n ('DLTR', 0.33),\n ('DPZ', 0.59),\n ('DUK', 0.02),\n ('EOG', 0.5),\n ('ES', 0.12),\n ('FB', 2.88),\n ('F', 0.2),\n ('GD', 0.61),\n ('GIS', 5.26),\n ('HRB', 0.63),\n ('HFC', 0.9),\n ('SJM', 2.03),\n ('K', 0.04),\n ('LB', 0.09),\n ('LDOS', 0.62),\n ('MKTX', 0.4),\n ('MNST', 0.11),\n ('MOS', 0.71),\n ('MYL', 0.26),\n ('NEM', 0.03),\n ('NEE', 0.29),\n ('NBL', 6.95),\n ('NLOK', 0.72),\n ('ORLY', 0.12),\n ('PAYC', 0.01),\n ('PRGO', 0.01),\n ('PNW', 0.59),\n ('PSA', 0.16),\n ('LUV', 1.84),\n ('SBUX', 1.38),\n ('SYY', 0.09),\n ('TMUS', 0.48),\n ('TWTR', 0.17),\n ('WMT', 0.23),\n ('DIS', 0.16),\n ('WELL', 0.8),\n ('XEL', 0.56),\n ('YUM', 0.83),\n ('ZBH', 1.74)]"
     },
     "metadata": {},
     "output_type": "execute_result",
     "execution_count": 37
    }
   ],
   "source": [
    "days = 10\n",
    "max_loss = 0.05\n",
    "portfolio = []\n",
    "for company_name in companies_name:\n",
    "    try:\n",
    "        company = Company(company_name, args)\n",
    "        company.load_data()\n",
    "        company.load_model()\n",
    "        history = np.array(company.data.Close[-days - args.seq_window:])\n",
    "        pred_price = company.predict(history[:10])[0]\n",
    "        price = history[9]\n",
    "        delta = pred_price - price\n",
    "        if delta > 0:\n",
    "            company.init_train_test_data()\n",
    "            loss = company.test()\n",
    "            if loss < max_loss:\n",
    "                portfolio += [(company_name, round(delta*100/price, 2))]\n",
    "    except FileNotFoundError:\n",
    "        pass\n",
    "portfolio"
   ],
   "metadata": {
    "collapsed": false,
    "pycharm": {
     "name": "#%%\n",
     "is_executing": false
    }
   }
  },
  {
   "cell_type": "code",
   "execution_count": 5,
   "outputs": [
    {
     "data": {
      "text/plain": "[('ROST', 7.35),\n ('NCLH', 7.31),\n ('NBL', 6.87),\n ('DVN', 6.74),\n ('COF', 5.72),\n ('GIS', 4.69),\n ('RF', 4.26),\n ('FTI', 4.21),\n ('ADS', 3.92),\n ('TAP', 3.91),\n ('OXY', 3.73),\n ('WFC', 3.49),\n ('SLG', 3.33),\n ('CBOE', 3.29),\n ('RTX', 3.09),\n ('FB', 3.01),\n ('TFC', 2.99),\n ('FANG', 2.53),\n ('JWN', 2.49),\n ('FISV', 2.4),\n ('HST', 2.4),\n ('CME', 2.32),\n ('BAC', 2.3),\n ('SJM', 2.1),\n ('AAP', 2.06),\n ('APA', 1.94),\n ('D', 1.82),\n ('ZBH', 1.77),\n ('SLB', 1.73),\n ('WAB', 1.73),\n ('TSN', 1.72),\n ('DISCK', 1.7),\n ('CCL', 1.66),\n ('GM', 1.54),\n ('TJX', 1.45),\n ('SRE', 1.42),\n ('SBUX', 1.29),\n ('USB', 1.14),\n ('HLT', 1.07),\n ('TWTR', 1.04),\n ('ZION', 1.04),\n ('LNC', 1.03),\n ('YUM', 1.02),\n ('DHI', 1.0),\n ('DUK', 0.97),\n ('PNW', 0.93),\n ('WAT', 0.93),\n ('MOS', 0.89),\n ('COST', 0.85),\n ('COTY', 0.83),\n ('EXC', 0.83),\n ('PM', 0.81),\n ('EIX', 0.79),\n ('SO', 0.78),\n ('VMC', 0.77),\n ('BXP', 0.76),\n ('JNJ', 0.75),\n ('CI', 0.71),\n ('KIM', 0.71),\n ('HFC', 0.69),\n ('VNO', 0.66),\n ('EOG', 0.65),\n ('HRB', 0.64),\n ('HII', 0.6),\n ('ABMD', 0.58),\n ('DPZ', 0.52),\n ('COG', 0.51),\n ('WELL', 0.46),\n ('CTXS', 0.45),\n ('NLOK', 0.45),\n ('TMUS', 0.43),\n ('C', 0.42),\n ('XEL', 0.42),\n ('AMD', 0.41),\n ('PRU', 0.41),\n ('AAL', 0.4),\n ('DIS', 0.4),\n ('WMT', 0.39),\n ('MNST', 0.36),\n ('FRT', 0.35),\n ('UHS', 0.35),\n ('CHTR', 0.34),\n ('AEP', 0.33),\n ('CVX', 0.32),\n ('ORLY', 0.32),\n ('VZ', 0.31),\n ('PSA', 0.3),\n ('ARE', 0.27),\n ('MLM', 0.25),\n ('LDOS', 0.24),\n ('LEN', 0.24),\n ('EXPE', 0.22),\n ('DLTR', 0.21),\n ('MYL', 0.19),\n ('ES', 0.17),\n ('ADP', 0.16),\n ('MKTX', 0.16),\n ('NEE', 0.15),\n ('DG', 0.14),\n ('GPC', 0.14),\n ('CAH', 0.1),\n ('K', 0.09),\n ('CLX', 0.08),\n ('DISH', 0.08),\n ('F', 0.08),\n ('DLR', 0.06),\n ('MA', 0.05),\n ('AIG', 0.04),\n ('SYY', 0.04),\n ('PAYC', 0.03),\n ('VLO', 0.01)]"
     },
     "metadata": {},
     "output_type": "execute_result",
     "execution_count": 5
    }
   ],
   "source": [
    "portfolio = sorted(portfolio, key=lambda a: a[1], reverse=True)\n",
    "portfolio"
   ],
   "metadata": {
    "collapsed": false,
    "pycharm": {
     "name": "#%%\n",
     "is_executing": false
    }
   }
  },
  {
   "cell_type": "code",
   "execution_count": 38,
   "outputs": [
    {
     "data": {
      "text/plain": "52"
     },
     "metadata": {},
     "output_type": "execute_result",
     "execution_count": 38
    }
   ],
   "source": [
    "len(portfolio)"
   ],
   "metadata": {
    "collapsed": false,
    "pycharm": {
     "name": "#%%\n",
     "is_executing": false
    }
   }
  },
  {
   "cell_type": "code",
   "execution_count": 101,
   "outputs": [],
   "source": [
    "def stock_analise(company_name, days=10, show=False):\n",
    "    company = Company(company_name, args)\n",
    "    company.load_data()\n",
    "    company.load_model()\n",
    "    company.init_train_test_data()\n",
    "    print(\"model loss\", company.test())\n",
    "    history = np.array(company.data.Close[-days - args.seq_window:])\n",
    "    y_pred = company.predict(history[:10], days)\n",
    "    y_pred = np.insert(y_pred, 0, history[9])\n",
    "    pred_lin_model = LinearRegression().fit(np.arange(9, 10+days).reshape(-1, 1), y_pred)\n",
    "    \n",
    "    lin_model = LinearRegression().fit(np.arange(10).reshape(-1, 1), history[:10])\n",
    "    coef_10 = lin_model.coef_\n",
    "    y_lin_10 = lin_model.predict(np.arange(10 + days).reshape(-1, 1))\n",
    "    lin_model = LinearRegression().fit(np.arange(5, 10).reshape(-1, 1), history[5:10])\n",
    "    coef_5 = lin_model.coef_\n",
    "    y_lin_5 = lin_model.predict(np.arange(10 + days).reshape(-1, 1))\n",
    "    y_pred_lin_10 = pred_lin_model.predict(np.arange(10 + days).reshape(-1, 1))\n",
    "    coef_pred = pred_lin_model.coef_\n",
    "    x = np.arange(10 + days)\n",
    "    plt.plot(x, y_lin_10)\n",
    "    plt.plot(x, y_pred_lin_10)\n",
    "    plt.plot(x, y_lin_5)\n",
    "    plt.plot(x[:10], history[:10])\n",
    "    if show:\n",
    "        plt.plot(x[9:], history[9:])\n",
    "    plt.plot(np.arange(9, 10 + days), y_pred)\n",
    "    plt.show()\n",
    "    return coef_10[0], coef_5[0], coef_pred[0]"
   ],
   "metadata": {
    "collapsed": false,
    "pycharm": {
     "name": "#%%\n",
     "is_executing": false
    }
   }
  },
  {
   "cell_type": "code",
   "execution_count": 112,
   "outputs": [
    {
     "name": "stdout",
     "text": [
      "MOS\nmodel loss 0.041314871197926095\n",
      "(-0.028545448996804095, 0.03500003814697266, -0.057218074798583964)\n"
     ],
     "output_type": "stream"
    },
    {
     "data": {
      "text/plain": "<Figure size 432x288 with 1 Axes>",
      "image/png": "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\n"
     },
     "metadata": {
      "needs_background": "light"
     },
     "output_type": "display_data"
    }
   ],
   "source": [
    "company_name = portfolio[30][0]\n",
    "print(company_name)\n",
    "print(stock_analise(company_name, 2, True))"
   ],
   "metadata": {
    "collapsed": false,
    "pycharm": {
     "name": "#%%\n",
     "is_executing": false
    }
   }
  },
  {
   "cell_type": "code",
   "execution_count": 53,
   "outputs": [],
   "source": [
    "my_portfolio = {\n",
    "    'ABMD': 1, 'AAP': 1, 'AEP': 1\n",
    "}"
   ],
   "metadata": {
    "collapsed": false,
    "pycharm": {
     "name": "#%%\n",
     "is_executing": false
    }
   }
  },
  {
   "cell_type": "code",
   "execution_count": 50,
   "outputs": [],
   "source": [
    "def portfolio_value(my_portfolio, days):\n",
    "    total = 0\n",
    "    for company_name, n in my_portfolio.items():\n",
    "        company = Company(company_name, args)\n",
    "        company.load_data()\n",
    "        total += company.data.Close.tolist()[-days-1] * n\n",
    "        print(company_name, company.data.Close.tolist()[-n])\n",
    "    print(total)\n",
    "    return total"
   ],
   "metadata": {
    "collapsed": false,
    "pycharm": {
     "name": "#%%\n",
     "is_executing": false
    }
   }
  },
  {
   "cell_type": "code",
   "execution_count": 54,
   "outputs": [
    {
     "name": "stdout",
     "text": [
      "ABMD 276.6400146484375\nAAP 143.67999267578125\nAEP 84.68000030517578\n463.6499938964844\n"
     ],
     "output_type": "stream"
    }
   ],
   "source": [
    "stock_value = portfolio_value(my_portfolio, 10)\n",
    "cash = 500 - stock_value"
   ],
   "metadata": {
    "collapsed": false,
    "pycharm": {
     "name": "#%%\n",
     "is_executing": false
    }
   }
  },
  {
   "cell_type": "code",
   "execution_count": 91,
   "outputs": [
    {
     "name": "stdout",
     "text": [
      "AEP\nmodel loss",
      " 0.040894298505079224\n",
      "покупать\n"
     ],
     "output_type": "stream"
    },
    {
     "data": {
      "text/plain": "<Figure size 432x288 with 1 Axes>",
      "image/png": "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\n"
     },
     "metadata": {
      "needs_background": "light"
     },
     "output_type": "display_data"
    }
   ],
   "source": [
    "days = 1\n",
    "for company_name in my_portfolio.keys():\n",
    "    print(company_name)\n",
    "    k1, k2, k_p = stock_analise(company_name, days)\n",
    "    if k_p > 0 and (k1 > 0 or k2 > 0):\n",
    "        print(\"покупать\")\n",
    "    else:\n",
    "        print(\"продать\")"
   ],
   "metadata": {
    "collapsed": false,
    "pycharm": {
     "name": "#%%\n",
     "is_executing": false
    }
   }
  },
  {
   "cell_type": "code",
   "execution_count": 58,
   "outputs": [],
   "source": [
    "def sell(my_portfolio, sell_stock):\n",
    "    cash = 0\n",
    "    for company_name in sell_stock:\n",
    "        company = Company(company_name, args)\n",
    "        company.load_data()\n",
    "        cash += company.data.Close.tolist()[-days-1] * my_portfolio[company_name]\n",
    "        del my_portfolio[company_name]\n",
    "    return cash\n"
   ],
   "metadata": {
    "collapsed": false,
    "pycharm": {
     "name": "#%%\n",
     "is_executing": false
    }
   }
  },
  {
   "cell_type": "code",
   "execution_count": 76,
   "outputs": [
    {
     "name": "stdout",
     "text": [
      "AEP 84.68000030517578\n85.3499984741211\n515.880012512207\n"
     ],
     "output_type": "stream"
    }
   ],
   "source": [
    "# cash += sell(my_portfolio, ['AAP'])\n",
    "stock_value = portfolio_value(my_portfolio, days)\n",
    "print(stock_value + cash)\n"
   ],
   "metadata": {
    "collapsed": false,
    "pycharm": {
     "name": "#%%\n",
     "is_executing": false
    }
   }
  }
 ],
 "metadata": {
  "kernelspec": {
   "display_name": "Python 3",
   "language": "python",
   "name": "python3"
  },
  "language_info": {
   "codemirror_mode": {
    "name": "ipython",
    "version": 2
   },
   "file_extension": ".py",
   "mimetype": "text/x-python",
   "name": "python",
   "nbconvert_exporter": "python",
   "pygments_lexer": "ipython2",
   "version": "2.7.6"
  },
  "pycharm": {
   "stem_cell": {
    "cell_type": "raw",
    "source": [],
    "metadata": {
     "collapsed": false
    }
   }
  }
 },
 "nbformat": 4,
 "nbformat_minor": 0
=======
{
 "cells": [
  {
   "cell_type": "code",
   "execution_count": 36,
   "metadata": {
    "collapsed": true,
    "pycharm": {
     "is_executing": false
    }
   },
   "outputs": [],
   "source": [
    "import pandas as pd\n",
    "from typing import Optional, List, Tuple\n",
    "import datetime as dt\n",
    "import yfinance as yf\n",
    "import sklearn.preprocessing as sk\n",
    "import torch.nn as nn\n",
    "import matplotlib.pyplot as plt\n",
    "import numpy as np\n",
    "\n",
    "def get_company_symbol(company: str) -> Optional[str]:\n",
    "    df = pd.read_csv('../dataset/companylist.csv')\n",
    "    for i, name in enumerate(df.Name):\n",
    "        if company in name.lower():\n",
    "            return df.Symbol[i]\n",
    "    return None\n",
    "\n",
    "def split_data(data: List[float], window=10) -> List[Tuple[List[float], float]]:\n",
    "    dataset = []\n",
    "    for i in range(len(data)-window):\n",
    "        values = data[i: i + window + 1]        \n",
    "        dataset += [(values[:-1], values[-1])]\n",
    "    return dataset"
   ]
  },
  {
   "cell_type": "code",
   "execution_count": 2,
   "outputs": [
    {
     "data": {
      "text/plain": "'TSLA'"
     },
     "metadata": {},
     "output_type": "execute_result",
     "execution_count": 2
    }
   ],
   "source": [
    "company = get_company_symbol(\"tesla\")\n",
    "company"
   ],
   "metadata": {
    "collapsed": false,
    "pycharm": {
     "name": "#%%\n",
     "is_executing": false
    }
   }
  },
  {
   "cell_type": "code",
   "execution_count": 3,
   "outputs": [],
   "source": [
    "actual_date = dt.date.today()\n",
    "past_date = actual_date - dt.timedelta(days=366)\n",
    "\n",
    "actual_date = actual_date.strftime(\"%Y-%m-%d\")\n",
    "past_date = past_date.strftime(\"%Y-%m-%d\")"
   ],
   "metadata": {
    "collapsed": false,
    "pycharm": {
     "name": "#%%\n",
     "is_executing": false
    }
   }
  },
  {
   "cell_type": "code",
   "execution_count": 4,
   "outputs": [
    {
     "name": "stdout",
     "text": [
      "\r[*********************100%***********************]  1 of 1 completed",
      "\n"
     ],
     "output_type": "stream"
    }
   ],
   "source": [
    "data = yf.download(company, start=past_date, end=actual_date)\n",
    "df = pd.DataFrame(data=data)"
   ],
   "metadata": {
    "collapsed": false,
    "pycharm": {
     "name": "#%%\n",
     "is_executing": false
    }
   }
  },
  {
   "cell_type": "code",
   "execution_count": 5,
   "outputs": [
    {
     "data": {
      "text/plain": "                  Open        High         Low       Close   Adj Close  \\\nDate                                                                     \n2019-07-11  238.139999  241.500000  235.800003  238.600006  238.600006   \n2019-07-12  239.750000  245.380005  239.710007  245.080002  245.080002   \n2019-07-15  248.000000  254.419998  244.860001  253.500000  253.500000   \n2019-07-16  249.300003  253.529999  247.929993  252.380005  252.380005   \n2019-07-17  255.669998  258.309998  253.350006  254.860001  254.860001   \n2019-07-18  255.050003  255.750000  251.889999  253.539993  253.539993   \n2019-07-19  255.690002  259.959991  254.619995  258.179993  258.179993   \n2019-07-22  258.750000  262.149994  254.190002  255.679993  255.679993   \n2019-07-23  256.709991  260.480011  254.500000  260.170013  260.170013   \n2019-07-24  259.170013  266.070007  258.160004  264.880005  264.880005   \n\n              Volume  \nDate                  \n2019-07-11   7514400  \n2019-07-12   9200500  \n2019-07-15  11000100  \n2019-07-16   8149000  \n2019-07-17   9764700  \n2019-07-18   4764500  \n2019-07-19   7048400  \n2019-07-22   6842400  \n2019-07-23   5023100  \n2019-07-24  11072800  ",
      "text/html": "<div>\n<style scoped>\n    .dataframe tbody tr th:only-of-type {\n        vertical-align: middle;\n    }\n\n    .dataframe tbody tr th {\n        vertical-align: top;\n    }\n\n    .dataframe thead th {\n        text-align: right;\n    }\n</style>\n<table border=\"1\" class=\"dataframe\">\n  <thead>\n    <tr style=\"text-align: right;\">\n      <th></th>\n      <th>Open</th>\n      <th>High</th>\n      <th>Low</th>\n      <th>Close</th>\n      <th>Adj Close</th>\n      <th>Volume</th>\n    </tr>\n    <tr>\n      <th>Date</th>\n      <th></th>\n      <th></th>\n      <th></th>\n      <th></th>\n      <th></th>\n      <th></th>\n    </tr>\n  </thead>\n  <tbody>\n    <tr>\n      <th>2019-07-11</th>\n      <td>238.139999</td>\n      <td>241.500000</td>\n      <td>235.800003</td>\n      <td>238.600006</td>\n      <td>238.600006</td>\n      <td>7514400</td>\n    </tr>\n    <tr>\n      <th>2019-07-12</th>\n      <td>239.750000</td>\n      <td>245.380005</td>\n      <td>239.710007</td>\n      <td>245.080002</td>\n      <td>245.080002</td>\n      <td>9200500</td>\n    </tr>\n    <tr>\n      <th>2019-07-15</th>\n      <td>248.000000</td>\n      <td>254.419998</td>\n      <td>244.860001</td>\n      <td>253.500000</td>\n      <td>253.500000</td>\n      <td>11000100</td>\n    </tr>\n    <tr>\n      <th>2019-07-16</th>\n      <td>249.300003</td>\n      <td>253.529999</td>\n      <td>247.929993</td>\n      <td>252.380005</td>\n      <td>252.380005</td>\n      <td>8149000</td>\n    </tr>\n    <tr>\n      <th>2019-07-17</th>\n      <td>255.669998</td>\n      <td>258.309998</td>\n      <td>253.350006</td>\n      <td>254.860001</td>\n      <td>254.860001</td>\n      <td>9764700</td>\n    </tr>\n    <tr>\n      <th>2019-07-18</th>\n      <td>255.050003</td>\n      <td>255.750000</td>\n      <td>251.889999</td>\n      <td>253.539993</td>\n      <td>253.539993</td>\n      <td>4764500</td>\n    </tr>\n    <tr>\n      <th>2019-07-19</th>\n      <td>255.690002</td>\n      <td>259.959991</td>\n      <td>254.619995</td>\n      <td>258.179993</td>\n      <td>258.179993</td>\n      <td>7048400</td>\n    </tr>\n    <tr>\n      <th>2019-07-22</th>\n      <td>258.750000</td>\n      <td>262.149994</td>\n      <td>254.190002</td>\n      <td>255.679993</td>\n      <td>255.679993</td>\n      <td>6842400</td>\n    </tr>\n    <tr>\n      <th>2019-07-23</th>\n      <td>256.709991</td>\n      <td>260.480011</td>\n      <td>254.500000</td>\n      <td>260.170013</td>\n      <td>260.170013</td>\n      <td>5023100</td>\n    </tr>\n    <tr>\n      <th>2019-07-24</th>\n      <td>259.170013</td>\n      <td>266.070007</td>\n      <td>258.160004</td>\n      <td>264.880005</td>\n      <td>264.880005</td>\n      <td>11072800</td>\n    </tr>\n  </tbody>\n</table>\n</div>"
     },
     "metadata": {},
     "output_type": "execute_result",
     "execution_count": 5
    }
   ],
   "source": [
    "df.head(10)"
   ],
   "metadata": {
    "collapsed": false,
    "pycharm": {
     "name": "#%%\n",
     "is_executing": false
    }
   }
  },
  {
   "cell_type": "code",
   "execution_count": 6,
   "outputs": [
    {
     "data": {
      "text/plain": "<matplotlib.axes._subplots.AxesSubplot at 0x210879ed9a0>"
     },
     "metadata": {},
     "output_type": "execute_result",
     "execution_count": 6
    },
    {
     "data": {
      "text/plain": "<Figure size 432x288 with 1 Axes>",
      "image/png": "iVBORw0KGgoAAAANSUhEUgAAAcQAAAEHCAYAAAAwIzYFAAAABHNCSVQICAgIfAhkiAAAAAlwSFlzAAALEgAACxIB0t1+/AAAADh0RVh0U29mdHdhcmUAbWF0cGxvdGxpYiB2ZXJzaW9uMy4yLjIsIGh0dHA6Ly9tYXRwbG90bGliLm9yZy+WH4yJAAAYjElEQVR4nO3de5Bc5Znf8e9jaZAM9nIdDNaoGLErczMs4DHgbEIRFHNfhClTBST2LCEls+YadmPL2SpTtWvKciVlbMpaHBkUYGEFlGwHVURCWIzj2AlYA5YBWV40EbexAI0RJt4FAZKe/NHvoPZoZiSkme7T3d9PVVef85z3dD/df8xv3nNOd0dmIklSp3tfsxuQJKkKDERJkjAQJUkCDERJkgADUZIkwECUJAmA6Y1+wohYCpwHbMzMj9bVrwauArYAKzPzC6X+JeByYCtwTWY+WOpnAd8EpgG3ZuainT33QQcdlL29vZP7giSpzT3++OO/zszuZvcx1RoeiMDtwLeAO0cKEfHPgfnAcZn5VkQcXOpHAxcDxwAfBv4uIj5SdlsMfBIYAlZFxIrM/MVET9zb28vAwMAkvxxJam8R8Xyze2iEhgdiZv4oInpHlf8UWJSZb5UxG0t9PnBPqT8bEYPASWXbYGauB4iIe8rYCQNRkqTxVOUc4keAfxYRj0XE/4yIj5f6LODFunFDpTZefQcRsSAiBiJiYHh4eApalyS1g6oE4nRgf+AU4N8B90VEADHG2JygvmMxc0lm9mVmX3d32x8ClyTtpmacQxzLEPC9rH2x6k8jYhtwUKnPrhvXA2woy+PVJWmPvPPOOwwNDbF58+Zmt9JQM2fOpKenh66urma30hRVCcT/ApwO/LBcNLMX8GtgBfC3EfF1ahfVzAV+Sm2GODci5gC/onbhzaXNaFxS+xkaGuKDH/wgvb291A5Wtb/M5NVXX2VoaIg5c+Y0u52maMbHLpYBpwEHRcQQcAOwFFgaEU8DbwP9Zba4JiLuo3axzBbgyszcWh7nKuBBah+7WJqZaxr9WiS1p82bN3dUGAJEBAceeCCdfK1FM64yvWScTf9qnPE3AjeOUX8AeGASW5Okd3VSGI7oxNdcryoX1UiS1FRVOYcoSZXVu3DlpD7ec4vO3emYl19+meuuu45Vq1YxY8YMent7+cY3vsGFF17I008/Pan9qMZAlKSKyUw+9alP0d/fzz333APA6tWreeWVVxrey2T/M1BlHjKVpIp55JFH6Orq4oorrni3dvzxxzN79vZPm23evJnLLruMY489lhNOOIFHHnkEgDVr1nDSSSdx/PHHc9xxx7Fu3ToA7rrrrnfrn/vc59i6dWtjX1QLMBAlqWKefvppPvaxj004ZvHixQA89dRTLFu2jP7+fjZv3sy3v/1trr32WlavXs3AwAA9PT2sXbuWe++9l5/85CesXr2aadOmcffddzfipbQUD5lKUgv68Y9/zNVXXw3AkUceyWGHHcYzzzzDJz7xCW688UaGhoa48MILmTt3Lg8//DCPP/44H/947Vsx33zzTQ4++OBmtl9JBqIkVcwxxxzD8uXLJxxT+6j2ji699FJOPvlkVq5cyZlnnsmtt95KZtLf389Xv/rVqWi3bXjIVJIq5vTTT+ett97iO9/5zru1VatW8fzz23+F6dRTT333sOczzzzDCy+8wBFHHMH69es5/PDDueaaazj//PN58sknmTdvHsuXL2fjxtoPCW3atOl3Hks1zhAlaSd25WMSkyki+P73v891113HokWLmDlz5rsfuxjx+c9/niuuuIJjjz2W6dOnc/vttzNjxgzuvfde7rrrLrq6ujjkkEP48pe/zAEHHMBXvvIVzjjjDLZt20ZXVxeLFy/msMMOa+jrqroYb9rdjvr6+tIfCJa0M2vXruWoo45qdhtNMfq19y5cyfNfO+/xzOxrYlsN4SFTSZIwECVJAgxESRpTJ51OGtGJr7megShJo8ycOZNXX321owJi5PcQZ86c2exWmsarTCVplJ6eHoaGhjrutwFnzpxJT09Ps9toGgNRkkbp6urq2F+N72QeMpUkCQNRkiSgCYEYEUsjYmNE7PALlxHx5xGREXFQWY+IuDkiBiPiyYg4sW5sf0SsK7f+Rr4GSVL7acYM8XbgrNHFiJgNfBJ4oa58NjC33BYAt5SxBwA3ACcDJwE3RMT+U9q1JKmtNTwQM/NHwKYxNt0EfAGov855PnBn1jwK7BcRhwJnAg9l5qbMfA14iDFCVpKkXVWJc4gRcT7wq8z8+ahNs4AX69aHSm28+liPvSAiBiJioNMuoZYk7bqmB2JE7A38BfDlsTaPUcsJ6jsWM5dkZl9m9nV3d+9+o5LUAXoXrmx2C03T9EAEfh+YA/w8Ip4DeoAnIuIQajO/2XVje4ANE9QlSdotTQ/EzHwqMw/OzN7M7KUWdidm5svACuCz5WrTU4DXM/Ml4EHgjIjYv1xMc0apSZK0W5rxsYtlwP8BjoiIoYi4fILhDwDrgUHgO8DnATJzE/BXwKpy+8tSkyRptzT8q9sy85KdbO+tW07gynHGLQWWTmpzkiR6F67kuUXnNruNhmv6IVNJkqrAQJQkCQNRkiTAQJQkCTAQJUkCDERJkgADUZIkwECUJAkwECVJAgxESZIAA1GSJMBAlCQJMBAlSQIMREmSAANRkiTAQJQkCTAQJUkCDERJkoAmBGJELI2IjRHxdF3tP0TELyPiyYj4fkTsV7ftSxExGBF/HxFn1tXPKrXBiFjY6NchSWovzZgh3g6cNar2EPDRzDwOeAb4EkBEHA1cDBxT9vnriJgWEdOAxcDZwNHAJWWsJEm7peGBmJk/AjaNqv2PzNxSVh8FesryfOCezHwrM58FBoGTym0wM9dn5tvAPWWsJOk96l24stktVEIVzyH+a+C/leVZwIt124ZKbbz6DiJiQUQMRMTA8PDwFLQrSWoHlQrEiPgLYAtw90hpjGE5QX3HYuaSzOzLzL7u7u7JaVSS1HamN7uBERHRD5wHzMvMkXAbAmbXDesBNpTl8eqSJL1nlZghRsRZwBeB8zPzjbpNK4CLI2JGRMwB5gI/BVYBcyNiTkTsRe3CmxWN7luS1D4aPkOMiGXAacBBETEE3EDtqtIZwEMRAfBoZl6RmWsi4j7gF9QOpV6ZmVvL41wFPAhMA5Zm5ppGvxZJUvtoeCBm5iVjlG+bYPyNwI1j1B8AHpjE1iRJHawSh0wlSWo2A1GSJAxESZIAA1GSJMBAlCQJMBAlqaP5PabbGYiSJGEgSpIEGIiSJAEGoiRJgIEoSRJgIEqSBBiIkiQBBqIkSYCBKEkSYCBKkgQYiJIkAQaiJLUUv3t06jQ8ECNiaURsjIin62oHRMRDEbGu3O9f6hERN0fEYEQ8GREn1u3TX8avi4j+Rr8OSVJ7acYM8XbgrFG1hcDDmTkXeLisA5wNzC23BcAtUAtQ4AbgZOAk4IaREJUkTcxZ5tgaHoiZ+SNg06jyfOCOsnwHcEFd/c6seRTYLyIOBc4EHsrMTZn5GvAQO4asJHWc0WFn+O26qpxD/FBmvgRQ7g8u9VnAi3XjhkptvPoOImJBRAxExMDw8PCkNy5JVWMI7p6qBOJ4YoxaTlDfsZi5JDP7MrOvu7t7UpuTpGYz/CZPVQLxlXIolHK/sdSHgNl143qADRPUJanjGIqToyqBuAIYuVK0H7i/rv7ZcrXpKcDr5ZDqg8AZEbF/uZjmjFKTpLZnAE6N6Y1+wohYBpwGHBQRQ9SuFl0E3BcRlwMvABeV4Q8A5wCDwBvAZQCZuSki/gpYVcb9ZWaOvlBHkqRd1vBAzMxLxtk0b4yxCVw5zuMsBZZOYmuS1JZ6F67kuUXnvrussVXlkKkkaRyGWGMYiJIkYSBKkgQYiJIkAQaiJEmAgShpDF7EoU5kIEqShIEoaRzOEhvP97y5DERJkjAQJanSnDU2joEoSRViADaPgShJEgaiJEmAgShJEmAgSpIEGIiSJAEGoqRd4JWP6gSVCsSI+LcRsSYino6IZRExMyLmRMRjEbEuIu6NiL3K2BllfbBs721u95I0Mf+xqLbKBGJEzAKuAfoy86PANOBi4GvATZk5F3gNuLzscjnwWmb+AXBTGSdJDbM7AVe/jwFZLZUJxGI68P6ImA7sDbwEnA4sL9vvAC4oy/PLOmX7vIiIBvYqSROGWu/ClYZeC6lMIGbmr4D/CLxALQhfBx4HfpOZW8qwIWBWWZ4FvFj23VLGH9jInqV24R/tyfNe30vf++qoTCBGxP7UZn1zgA8D+wBnjzE0R3aZYFv94y6IiIGIGBgeHp6sdqW2s7M/zJ3wh7sTXqPGV5lABP4F8GxmDmfmO8D3gH8C7FcOoQL0ABvK8hAwG6Bs3xfYNPpBM3NJZvZlZl93d/dUvwZJHcxAbW1VCsQXgFMiYu9yLnAe8AvgEeDTZUw/cH9ZXlHWKdt/kJk7zBClTuUf5z031nvo+9q+KhOImfkYtYtjngCeotbbEuCLwPURMUjtHOFtZZfbgANL/XpgYcObllqUF3tIO5q+8yGNk5k3ADeMKq8HThpj7Gbgokb0Jalz9C5cyXOLzh13m9pXZWaIkiQ1k4EodYipnt20wuypFXpU8xiIknZbKwZMK/asxjAQpQ5gCEg7ZyBK6lj+o6B6BqKkSWPAqJUZiJIkYSBKamO7MmN1VqsRBqIkTcDA7BwGoiRJGIiSJAEGoqTd4GFEtSMDUdJuMRTVbgxESZIwECVJAgxEqS1V5XBmM/uoynug1mEgSpKEgShJElCxQIyI/SJieUT8MiLWRsQnIuKAiHgoItaV+/3L2IiImyNiMCKejIgTm92/JKl1VSoQgW8C/z0zjwT+EFgLLAQezsy5wMNlHeBsYG65LQBuaXy7kqR2UZlAjIjfA04FbgPIzLcz8zfAfOCOMuwO4IKyPB+4M2seBfaLiEMb3LakcXhRi1pNZQIROBwYBv5zRPwsIm6NiH2AD2XmSwDl/uAyfhbwYt3+Q6X2OyJiQUQMRMTA8PDw1L4CSVLLqlIgTgdOBG7JzBOAf2T74dGxxBi13KGQuSQz+zKzr7u7e3I6lSS1nSoF4hAwlJmPlfXl1ALylZFDoeV+Y9342XX79wAbGtSrJKnNVCYQM/Nl4MWIOKKU5gG/AFYA/aXWD9xfllcAny1Xm54CvD5yaFXqRJ6zk/bM9GY3MMrVwN0RsRewHriMWmjfFxGXAy8AF5WxDwDnAIPAG2Ws1BF6F67kuUXnNrsNqa1UKhAzczXQN8ameWOMTeDKKW9Kqqj6UHR2KO25yhwyldTeDG1VnYEotQgDZed8j7QnDERJDTOVgWUYak8ZiFIF+cfd90CNZyBKqixDUY1kIEoVZRjsyPdEU8lAlFqAQSBNPQNRUkvwnwJNNQNRkiQMRKnpnPlI1WAgShVgKO4e3zdNJgNRqgj/uEvNZSBKkoSBKEkSYCBKTeHh0T3ne6jJZiBKDeYfcqmaDERJkjAQpSnhLHDnRr9HvQtX+r6pqSoXiBExLSJ+FhH/tazPiYjHImJdRNwbEXuV+oyyPli29zazb2mEf9Sl1lS5QASuBdbWrX8NuCkz5wKvAZeX+uXAa5n5B8BNZZxUOc58pNZQqUCMiB7gXODWsh7A6cDyMuQO4IKyPL+sU7bPK+OlhjPwpNZXqUAEvgF8AdhW1g8EfpOZW8r6EDCrLM8CXgQo218v439HRCyIiIGIGBgeHp7K3tWhDEOpPVQmECPiPGBjZj5eXx5jaO7Ctu2FzCWZ2ZeZfd3d3ZPQqSSpHU1vdgN1/gg4PyLOAWYCv0dtxrhfREwvs8AeYEMZPwTMBoYiYjqwL7Cp8W1LktpBZWaImfmlzOzJzF7gYuAHmfkvgUeAT5dh/cD9ZXlFWads/0Fm7jBDlCabF8lI7akygTiBLwLXR8QgtXOEt5X6bcCBpX49sLBJ/UmS2kCVDpm+KzN/CPywLK8HThpjzGbgooY2JmlS9S5cyXOLzm12GxLQGjNE6T2ZisOZHiKV2p+BqJY2+nyeYShpdxmIajmNCChDUOo8BqJayu4E1c5mkY2YZUqqPgNRTbUr4eNhUEmNYCCq6SYKJ4NLUqMYiKoUP/QuqVkMREmSMBDVBM4AJVWRgShJEgaiJEmAgShJEmAgTshzXZLUOQzEOn5byZ7zW18ktaqODUT/cDeO77OkVtCxgbinqvqHfXT47Gx99L4TjR/v+ar6XkjSe9FRgfjUr17fo/3HCpCJxjZ6ZtSo5zAAJbWjjgrEPTEVM6U9DRbDSZImT2UCMSJmR8QjEbE2ItZExLWlfkBEPBQR68r9/qUeEXFzRAxGxJMRcWJzX8HOjRVe72UWORUBaKBKUk1lAhHYAvxZZh4FnAJcGRFHAwuBhzNzLvBwWQc4G5hbbguAWxrf8uR7r+fwJEmTozKBmJkvZeYTZfm3wFpgFjAfuKMMuwO4oCzPB+7MmkeB/SLi0Aa3LUlqE5UJxHoR0QucADwGfCgzX4JaaAIHl2GzgBfrdhsqtdGPtSAiBiJiYOsbe3ZRjSSpfVUuECPiA8B3gesy8/9NNHSMWu5QyFySmX2Z2Tdt730nq01JUpupVCBGRBe1MLw7M79Xyq+MHAot9xtLfQiYXbd7D7ChUb1KktpLZQIxIgK4DVibmV+v27QC6C/L/cD9dfXPlqtNTwFeHzm0KknSezW92Q3U+SPgM8BTEbG61P49sAi4LyIuB14ALirbHgDOAQaBN4DLGtuuJKmdVCYQM/PHjH1eEGDeGOMTuHJKm5IkdYzKHDKVJKmZDERJkjAQJUkCDERJkgADUZIkwECUJAkwECVJAgxESZIAA1GSJMBAlCQJMBAlSQIMREmSAANRkiTAQJQkCTAQJUkCDERJkgADUZIkwECUJAlo8UCMiLMi4u8jYjAiFja7H0lS62rZQIyIacBi4GzgaOCSiDi6uV1JklpVywYicBIwmJnrM/Nt4B5gfpN7kiS1qMjMZvewWyLi08BZmflvyvpngJMz86pR4xYAC8rqEcCrdZt/DRzUxPUq9GDP1VyvQg/t0KM9T876PpnZTZub3uwG9kCMUdsh3TNzCbDk3Z0iBuq29TVzvQo92HM116vQQzv0aM+Ttt5LB2jlQ6ZDwOy69R5gQ5N6kSS1uFYOxFXA3IiYExF7ARcDK5rckySpRbXsIdPM3BIRVwEPAtOApZm5Zhd2XVKx9Sr0YM/VXK9CD+3Qoz1PXg9trWUvqpEkaTK18iFTSZImjYEoSRI7OYcYEbOBO6ldwTmL2rm6rrJ5G9sDdayPQEiS1EjbqH38biSTtgD/WG6vAX+SmU+Mt/POZohbgD8DTgUuAYaBq6l95OGN8iRvABvL2C3AVuA3paks6+/UPebrYzyPJzIlSRPZVu6T7cE3ctsCbC71bcBL1LLp12V9A7UvaLlloieYMBAz86XMfKLc3w88DjwD/IzaTPGX1GaNWe63lsY+QC2hozRUPxNdO/ppcIYpSdpR/WTpfdTCbSQvgu2B+D5gL7bn0X7Ab6ll0Yyy/jywX0QcOt6T7fI5xIjoBU6glrx95Ulmlfu9S3N71TU14v38buCtH/3Qu9qDJKmjjeRF/em6KOsjywnMpDYr3Aa8CbxCLa+Gyv2YdikQI+IDwHeBhcDfAG+VJ32z3PYuQ5PaNLU+5P5u1MNdtCvPKUlqO7t7emxkv3cmHLWj+lnkyGOM28NOAzEiuqiF4TLgT6jN+N6mdmj0rronSGrnB99X94TbgI+PauIf6h5+K9uPC0uS2tvuHhEc2W/k9Fv9+cTR5xSD2vnED5flvYFDqM0YJ/yKzwkDMSICuI3aeb/jyoONnLR8CvhjajPEpHaBTVdpeGvd7UPlfqT5fepeTP3xYOpqkiTV58PIJxvqZ3ojh0m3UZuobS3rrwMfpJZLb5X1w4DXM/OlcZ9som+qiYh/Cvwv4P8Cvz9qsxfDSJKqZKyPXYx8IuI14LLMHBhnX7+6TZIk8JtqJEkCDERJkgADUZIkwECUJAkwECVJAgxEaUpFxNaIWB0RayLi5xFxfUTs7PO/vRFxaaN6lFRjIEpT683MPD4zjwE+CZwD3LCTfXoBA1FqMD+HKE2hiPiHzPxA3frhwCrgIGrfnPE31L69CeCqzPzfEfEocBTwLHAHcDOwCDiN2pfpL87M/9SwFyF1CANRmkKjA7HUXgOOpPbzNNsyc3NEzAWWZWZfRJwG/HlmnlfGLwAOzsyvRMQM4CfARZn5bENfjNTmpu98iKRJNvK1Ul3AtyLieGrfwfiRccafARwXEZ8u6/sCc6nNICVNEgNRaqByyHQrsJHaucRXgD+kdj5/83i7AVdn5oMNaVLqUF5UIzVIRHQD3wa+lbVzFfsCL2XmNuAzbP9h7d9S+6b+EQ8Cf1p+io2I+EhE7IOkSeUMUZpa74+I1dQOj26hdhHN18u2vwa+GxEXAY9Q+0Z+gCeBLRHxc+B24JvUrjx9ovwk2zBwQaNegNQpvKhGkiQ8ZCpJEmAgSpIEGIiSJAEGoiRJgIEoSRJgIEqSBBiIkiQB8P8B/0Hf5qcpWjYAAAAASUVORK5CYII=\n"
     },
     "metadata": {
      "needs_background": "light"
     },
     "output_type": "display_data"
    }
   ],
   "source": [
    "df.plot.bar( y='Close', rot=0)"
   ],
   "metadata": {
    "collapsed": false,
    "pycharm": {
     "name": "#%%\n",
     "is_executing": false
    }
   }
  },
  {
   "cell_type": "code",
   "execution_count": 11,
   "outputs": [],
   "source": [
    "from sklearn.preprocessing import MinMaxScaler\n",
    "import torch\n",
    "import math"
   ],
   "metadata": {
    "collapsed": false,
    "pycharm": {
     "name": "#%%\n",
     "is_executing": false
    }
   }
  },
  {
   "cell_type": "code",
   "execution_count": 22,
   "outputs": [],
   "source": [
    "data = np.array(df.Close.tolist())"
   ],
   "metadata": {
    "collapsed": false,
    "pycharm": {
     "name": "#%%\n",
     "is_executing": false
    }
   }
  },
  {
   "cell_type": "code",
   "execution_count": 23,
   "outputs": [],
   "source": [
    "n = math.ceil(data.shape[0] * 0.7)\n",
    "train_data, test_data = data[:n], data[n:]\n"
   ],
   "metadata": {
    "collapsed": false,
    "pycharm": {
     "name": "#%%\n",
     "is_executing": false
    }
   }
  },
  {
   "cell_type": "code",
   "execution_count": 14,
   "outputs": [],
   "source": [
    "def norm_data(data: np.ndarray) -> torch.Tensor:\n",
    "    data = np.array(data)\n",
    "    scaler = MinMaxScaler(feature_range=(-1, 1))\n",
    "    data_normalized = scaler.fit_transform(data.reshape(-1, 1))\n",
    "    # noinspection PyArgumentList\n",
    "    return torch.FloatTensor(data_normalized).view(-1)        "
   ],
   "metadata": {
    "collapsed": false,
    "pycharm": {
     "name": "#%%\n",
     "is_executing": false
    }
   }
  },
  {
   "cell_type": "code",
   "execution_count": 636,
   "outputs": [],
   "source": [
    "train_data_normalized = norm_data(train_data)\n",
    "test_data_normalized = norm_data(test_data)"
   ],
   "metadata": {
    "collapsed": false,
    "pycharm": {
     "name": "#%%\n",
     "is_executing": false
    }
   }
  },
  {
   "cell_type": "code",
   "execution_count": 18,
   "outputs": [],
   "source": [
    "def create_inout_sequences(input_data, tw):\n",
    "    inout_seq = []\n",
    "    length = len(input_data)\n",
    "    for i in range(length-tw):\n",
    "        train_seq = input_data[i:i+tw]\n",
    "        train_label = input_data[i+tw:i+tw+1]\n",
    "        inout_seq.append((train_seq ,train_label))\n",
    "    return inout_seq"
   ],
   "metadata": {
    "collapsed": false,
    "pycharm": {
     "name": "#%%\n",
     "is_executing": false
    }
   }
  },
  {
   "cell_type": "code",
   "execution_count": 647,
   "outputs": [
    {
     "data": {
      "text/plain": "[(tensor([-0.9229, -0.9046, -0.8807, -0.8839, -0.8769, -0.8806, -0.8675, -0.8746]),\n  tensor([-0.8618])),\n (tensor([-0.9046, -0.8807, -0.8839, -0.8769, -0.8806, -0.8675, -0.8746, -0.8618]),\n  tensor([-0.8485])),\n (tensor([-0.8807, -0.8839, -0.8769, -0.8806, -0.8675, -0.8746, -0.8618, -0.8485]),\n  tensor([-0.9507])),\n (tensor([-0.8839, -0.8769, -0.8806, -0.8675, -0.8746, -0.8618, -0.8485, -0.9507]),\n  tensor([-0.9529])),\n (tensor([-0.8769, -0.8806, -0.8675, -0.8746, -0.8618, -0.8485, -0.9507, -0.9529]),\n  tensor([-0.9310])),\n (tensor([-0.8806, -0.8675, -0.8746, -0.8618, -0.8485, -0.9507, -0.9529, -0.9310]),\n  tensor([-0.9126])),\n (tensor([-0.8675, -0.8746, -0.8618, -0.8485, -0.9507, -0.9529, -0.9310, -0.9126]),\n  tensor([-0.9144])),\n (tensor([-0.8746, -0.8618, -0.8485, -0.9507, -0.9529, -0.9310, -0.9126, -0.9144]),\n  tensor([-0.9364])),\n (tensor([-0.8618, -0.8485, -0.9507, -0.9529, -0.9310, -0.9126, -0.9144, -0.9364]),\n  tensor([-0.9350])),\n (tensor([-0.8485, -0.9507, -0.9529, -0.9310, -0.9126, -0.9144, -0.9364, -0.9350]),\n  tensor([-0.9521])),\n (tensor([-0.9507, -0.9529, -0.9310, -0.9126, -0.9144, -0.9364, -0.9350, -0.9521]),\n  tensor([-0.9452])),\n (tensor([-0.9529, -0.9310, -0.9126, -0.9144, -0.9364, -0.9350, -0.9521, -0.9452]),\n  tensor([-0.9376])),\n (tensor([-0.9310, -0.9126, -0.9144, -0.9364, -0.9350, -0.9521, -0.9452, -0.9376]),\n  tensor([-0.9238])),\n (tensor([-0.9126, -0.9144, -0.9364, -0.9350, -0.9521, -0.9452, -0.9376, -0.9238]),\n  tensor([-0.9331])),\n (tensor([-0.9144, -0.9364, -0.9350, -0.9521, -0.9452, -0.9376, -0.9238, -0.9331]),\n  tensor([-0.9501])),\n (tensor([-0.9364, -0.9350, -0.9521, -0.9452, -0.9376, -0.9238, -0.9331, -0.9501]),\n  tensor([-0.9331])),\n (tensor([-0.9350, -0.9521, -0.9452, -0.9376, -0.9238, -0.9331, -0.9501, -0.9331]),\n  tensor([-0.9767])),\n (tensor([-0.9521, -0.9452, -0.9376, -0.9238, -0.9331, -0.9501, -0.9331, -0.9767]),\n  tensor([-0.9880])),\n (tensor([-0.9452, -0.9376, -0.9238, -0.9331, -0.9501, -0.9331, -0.9767, -0.9880]),\n  tensor([-0.9758])),\n (tensor([-0.9376, -0.9238, -0.9331, -0.9501, -0.9331, -0.9767, -0.9880, -0.9758]),\n  tensor([-0.9563])),\n (tensor([-0.9238, -0.9331, -0.9501, -0.9331, -0.9767, -0.9880, -0.9758, -0.9563]),\n  tensor([-0.9590])),\n (tensor([-0.9331, -0.9501, -0.9331, -0.9767, -0.9880, -0.9758, -0.9563, -0.9590]),\n  tensor([-0.9733])),\n (tensor([-0.9501, -0.9331, -0.9767, -0.9880, -0.9758, -0.9563, -0.9590, -0.9733]),\n  tensor([-0.9695])),\n (tensor([-0.9331, -0.9767, -0.9880, -0.9758, -0.9563, -0.9590, -0.9733, -0.9695]),\n  tensor([-1.])),\n (tensor([-0.9767, -0.9880, -0.9758, -0.9563, -0.9590, -0.9733, -0.9695, -1.0000]),\n  tensor([-0.9898])),\n (tensor([-0.9880, -0.9758, -0.9563, -0.9590, -0.9733, -0.9695, -1.0000, -0.9898]),\n  tensor([-0.9924])),\n (tensor([-0.9758, -0.9563, -0.9590, -0.9733, -0.9695, -1.0000, -0.9898, -0.9924]),\n  tensor([-0.9881])),\n (tensor([-0.9563, -0.9590, -0.9733, -0.9695, -1.0000, -0.9898, -0.9924, -0.9881]),\n  tensor([-0.9708])),\n (tensor([-0.9590, -0.9733, -0.9695, -1.0000, -0.9898, -0.9924, -0.9881, -0.9708]),\n  tensor([-0.9597])),\n (tensor([-0.9733, -0.9695, -1.0000, -0.9898, -0.9924, -0.9881, -0.9708, -0.9597]),\n  tensor([-0.9614])),\n (tensor([-0.9695, -1.0000, -0.9898, -0.9924, -0.9881, -0.9708, -0.9597, -0.9614]),\n  tensor([-0.9737])),\n (tensor([-1.0000, -0.9898, -0.9924, -0.9881, -0.9708, -0.9597, -0.9614, -0.9737]),\n  tensor([-0.9485])),\n (tensor([-0.9898, -0.9924, -0.9881, -0.9708, -0.9597, -0.9614, -0.9737, -0.9485]),\n  tensor([-0.9545])),\n (tensor([-0.9924, -0.9881, -0.9708, -0.9597, -0.9614, -0.9737, -0.9485, -0.9545]),\n  tensor([-0.9422])),\n (tensor([-0.9881, -0.9708, -0.9597, -0.9614, -0.9737, -0.9485, -0.9545, -0.9422]),\n  tensor([-0.9316])),\n (tensor([-0.9708, -0.9597, -0.9614, -0.9737, -0.9485, -0.9545, -0.9422, -0.9316]),\n  tensor([-0.8989])),\n (tensor([-0.9597, -0.9614, -0.9737, -0.9485, -0.9545, -0.9422, -0.9316, -0.8989]),\n  tensor([-0.9024])),\n (tensor([-0.9614, -0.9737, -0.9485, -0.9545, -0.9422, -0.9316, -0.8989, -0.9024]),\n  tensor([-0.9043])),\n (tensor([-0.9737, -0.9485, -0.9545, -0.9422, -0.9316, -0.8989, -0.9024, -0.9043]),\n  tensor([-0.9110])),\n (tensor([-0.9485, -0.9545, -0.9422, -0.9316, -0.8989, -0.9024, -0.9043, -0.9110]),\n  tensor([-0.9054])),\n (tensor([-0.9545, -0.9422, -0.9316, -0.8989, -0.9024, -0.9043, -0.9110, -0.9054]),\n  tensor([-0.9091])),\n (tensor([-0.9422, -0.9316, -0.8989, -0.9024, -0.9043, -0.9110, -0.9054, -0.9091]),\n  tensor([-0.9003])),\n (tensor([-0.9316, -0.8989, -0.9024, -0.9043, -0.9110, -0.9054, -0.9091, -0.9003]),\n  tensor([-0.9172])),\n (tensor([-0.8989, -0.9024, -0.9043, -0.9110, -0.9054, -0.9091, -0.9003, -0.9172]),\n  tensor([-0.9155])),\n (tensor([-0.9024, -0.9043, -0.9110, -0.9054, -0.9091, -0.9003, -0.9172, -0.9155]),\n  tensor([-0.9665])),\n (tensor([-0.9043, -0.9110, -0.9054, -0.9091, -0.9003, -0.9172, -0.9155, -0.9665]),\n  tensor([-0.9510])),\n (tensor([-0.9110, -0.9054, -0.9091, -0.9003, -0.9172, -0.9155, -0.9665, -0.9510]),\n  tensor([-0.9117])),\n (tensor([-0.9054, -0.9091, -0.9003, -0.9172, -0.9155, -0.9665, -0.9510, -0.9117]),\n  tensor([-0.9129])),\n (tensor([-0.9091, -0.9003, -0.9172, -0.9155, -0.9665, -0.9510, -0.9117, -0.9129]),\n  tensor([-0.9165])),\n (tensor([-0.9003, -0.9172, -0.9155, -0.9665, -0.9510, -0.9117, -0.9129, -0.9165]),\n  tensor([-0.9057])),\n (tensor([-0.9172, -0.9155, -0.9665, -0.9510, -0.9117, -0.9129, -0.9165, -0.9057]),\n  tensor([-0.9101])),\n (tensor([-0.9155, -0.9665, -0.9510, -0.9117, -0.9129, -0.9165, -0.9057, -0.9101]),\n  tensor([-0.9387])),\n (tensor([-0.9665, -0.9510, -0.9117, -0.9129, -0.9165, -0.9057, -0.9101, -0.9387]),\n  tensor([-0.9433])),\n (tensor([-0.9510, -0.9117, -0.9129, -0.9165, -0.9057, -0.9101, -0.9387, -0.9433]),\n  tensor([-0.9254])),\n (tensor([-0.9117, -0.9129, -0.9165, -0.9057, -0.9101, -0.9387, -0.9433, -0.9254]),\n  tensor([-0.9188])),\n (tensor([-0.9129, -0.9165, -0.9057, -0.9101, -0.9387, -0.9433, -0.9254, -0.9188]),\n  tensor([-0.9061])),\n (tensor([-0.9165, -0.9057, -0.9101, -0.9387, -0.9433, -0.9254, -0.9188, -0.9061]),\n  tensor([-0.9056])),\n (tensor([-0.9057, -0.9101, -0.9387, -0.9433, -0.9254, -0.9188, -0.9061, -0.9056]),\n  tensor([-0.8966])),\n (tensor([-0.9101, -0.9387, -0.9433, -0.9254, -0.9188, -0.9061, -0.9056, -0.8966]),\n  tensor([-0.8709])),\n (tensor([-0.9387, -0.9433, -0.9254, -0.9188, -0.9061, -0.9056, -0.8966, -0.8709]),\n  tensor([-0.8683])),\n (tensor([-0.9433, -0.9254, -0.9188, -0.9061, -0.9056, -0.8966, -0.8709, -0.8683]),\n  tensor([-0.8630])),\n (tensor([-0.9254, -0.9188, -0.9061, -0.9056, -0.8966, -0.8709, -0.8683, -0.8630]),\n  tensor([-0.8567])),\n (tensor([-0.9188, -0.9061, -0.9056, -0.8966, -0.8709, -0.8683, -0.8630, -0.8567]),\n  tensor([-0.8710])),\n (tensor([-0.9061, -0.9056, -0.8966, -0.8709, -0.8683, -0.8630, -0.8567, -0.8710]),\n  tensor([-0.8807])),\n (tensor([-0.9056, -0.8966, -0.8709, -0.8683, -0.8630, -0.8567, -0.8710, -0.8807]),\n  tensor([-0.8748])),\n (tensor([-0.8966, -0.8709, -0.8683, -0.8630, -0.8567, -0.8710, -0.8807, -0.8748]),\n  tensor([-0.8774])),\n (tensor([-0.8709, -0.8683, -0.8630, -0.8567, -0.8710, -0.8807, -0.8748, -0.8774]),\n  tensor([-0.7499])),\n (tensor([-0.8683, -0.8630, -0.8567, -0.8710, -0.8807, -0.8748, -0.8774, -0.7499]),\n  tensor([-0.6693])),\n (tensor([-0.8630, -0.8567, -0.8710, -0.8807, -0.8748, -0.8774, -0.7499, -0.6693]),\n  tensor([-0.6705])),\n (tensor([-0.8567, -0.8710, -0.8807, -0.8748, -0.8774, -0.7499, -0.6693, -0.6705]),\n  tensor([-0.7031])),\n (tensor([-0.8710, -0.8807, -0.8748, -0.8774, -0.7499, -0.6693, -0.6705, -0.7031]),\n  tensor([-0.7065])),\n (tensor([-0.8807, -0.8748, -0.8774, -0.7499, -0.6693, -0.6705, -0.7031, -0.7065]),\n  tensor([-0.7068])),\n (tensor([-0.8748, -0.8774, -0.7499, -0.6693, -0.6705, -0.7031, -0.7065, -0.7068]),\n  tensor([-0.7113])),\n (tensor([-0.8774, -0.7499, -0.6693, -0.6705, -0.7031, -0.7065, -0.7068, -0.7113]),\n  tensor([-0.6995])),\n (tensor([-0.7499, -0.6693, -0.6705, -0.7031, -0.7065, -0.7068, -0.7113, -0.6995]),\n  tensor([-0.7002])),\n (tensor([-0.6693, -0.6705, -0.7031, -0.7065, -0.7068, -0.7113, -0.6995, -0.7002]),\n  tensor([-0.6737])),\n (tensor([-0.6705, -0.7031, -0.7065, -0.7068, -0.7113, -0.6995, -0.7002, -0.6737]),\n  tensor([-0.6483])),\n (tensor([-0.7031, -0.7065, -0.7068, -0.7113, -0.6995, -0.7002, -0.6737, -0.6483]),\n  tensor([-0.6438])),\n (tensor([-0.7065, -0.7068, -0.7113, -0.6995, -0.7002, -0.6737, -0.6483, -0.6438]),\n  tensor([-0.6213])),\n (tensor([-0.7068, -0.7113, -0.6995, -0.7002, -0.6737, -0.6483, -0.6438, -0.6213]),\n  tensor([-0.6076])),\n (tensor([-0.7113, -0.6995, -0.7002, -0.6737, -0.6483, -0.6438, -0.6213, -0.6076]),\n  tensor([-0.6184])),\n (tensor([-0.6995, -0.7002, -0.6737, -0.6483, -0.6438, -0.6213, -0.6076, -0.6184]),\n  tensor([-0.6092])),\n (tensor([-0.7002, -0.6737, -0.6483, -0.6438, -0.6213, -0.6076, -0.6184, -0.6092]),\n  tensor([-0.6012])),\n (tensor([-0.6737, -0.6483, -0.6438, -0.6213, -0.6076, -0.6184, -0.6092, -0.6012]),\n  tensor([-0.6074])),\n (tensor([-0.6483, -0.6438, -0.6213, -0.6076, -0.6184, -0.6092, -0.6012, -0.6074]),\n  tensor([-0.5804])),\n (tensor([-0.6438, -0.6213, -0.6076, -0.6184, -0.6092, -0.6012, -0.6074, -0.5804]),\n  tensor([-0.6011])),\n (tensor([-0.6213, -0.6076, -0.6184, -0.6092, -0.6012, -0.6074, -0.5804, -0.6011]),\n  tensor([-0.5937])),\n (tensor([-0.6076, -0.6184, -0.6092, -0.6012, -0.6074, -0.5804, -0.6011, -0.5937]),\n  tensor([-0.6554])),\n (tensor([-0.6184, -0.6092, -0.6012, -0.6074, -0.5804, -0.6011, -0.5937, -0.6554]),\n  tensor([-0.6461])),\n (tensor([-0.6092, -0.6012, -0.6074, -0.5804, -0.6011, -0.5937, -0.6554, -0.6461]),\n  tensor([-0.6671])),\n (tensor([-0.6012, -0.6074, -0.5804, -0.6011, -0.5937, -0.6554, -0.6461, -0.6671]),\n  tensor([-0.6604])),\n (tensor([-0.6074, -0.5804, -0.6011, -0.5937, -0.6554, -0.6461, -0.6671, -0.6604]),\n  tensor([-0.6642])),\n (tensor([-0.5804, -0.6011, -0.5937, -0.6554, -0.6461, -0.6671, -0.6604, -0.6642]),\n  tensor([-0.6502])),\n (tensor([-0.6011, -0.5937, -0.6554, -0.6461, -0.6671, -0.6604, -0.6642, -0.6502]),\n  tensor([-0.6465])),\n (tensor([-0.5937, -0.6554, -0.6461, -0.6671, -0.6604, -0.6642, -0.6502, -0.6465]),\n  tensor([-0.6554])),\n (tensor([-0.6554, -0.6461, -0.6671, -0.6604, -0.6642, -0.6502, -0.6465, -0.6554]),\n  tensor([-0.6630])),\n (tensor([-0.6461, -0.6671, -0.6604, -0.6642, -0.6502, -0.6465, -0.6554, -0.6630]),\n  tensor([-0.6473])),\n (tensor([-0.6671, -0.6604, -0.6642, -0.6502, -0.6465, -0.6554, -0.6630, -0.6473]),\n  tensor([-0.6370])),\n (tensor([-0.6604, -0.6642, -0.6502, -0.6465, -0.6554, -0.6630, -0.6473, -0.6370]),\n  tensor([-0.6107])),\n (tensor([-0.6642, -0.6502, -0.6465, -0.6554, -0.6630, -0.6473, -0.6370, -0.6107]),\n  tensor([-0.5997])),\n (tensor([-0.6502, -0.6465, -0.6554, -0.6630, -0.6473, -0.6370, -0.6107, -0.5997]),\n  tensor([-0.5800])),\n (tensor([-0.6465, -0.6554, -0.6630, -0.6473, -0.6370, -0.6107, -0.5997, -0.5800]),\n  tensor([-0.5836])),\n (tensor([-0.6554, -0.6630, -0.6473, -0.6370, -0.6107, -0.5997, -0.5800, -0.5836]),\n  tensor([-0.5181])),\n (tensor([-0.6630, -0.6473, -0.6370, -0.6107, -0.5997, -0.5800, -0.5836, -0.5181]),\n  tensor([-0.5253])),\n (tensor([-0.6473, -0.6370, -0.6107, -0.5997, -0.5800, -0.5836, -0.5181, -0.5253]),\n  tensor([-0.4851])),\n (tensor([-0.6370, -0.6107, -0.5997, -0.5800, -0.5836, -0.5181, -0.5253, -0.4851]),\n  tensor([-0.4543])),\n (tensor([-0.6107, -0.5997, -0.5800, -0.5836, -0.5181, -0.5253, -0.4851, -0.4543]),\n  tensor([-0.4499])),\n (tensor([-0.5997, -0.5800, -0.5836, -0.5181, -0.5253, -0.4851, -0.4543, -0.4499]),\n  tensor([-0.4113])),\n (tensor([-0.5800, -0.5836, -0.5181, -0.5253, -0.4851, -0.4543, -0.4499, -0.4113]),\n  tensor([-0.3942])),\n (tensor([-0.5836, -0.5181, -0.5253, -0.4851, -0.4543, -0.4499, -0.4113, -0.3942]),\n  tensor([-0.3781])),\n (tensor([-0.5181, -0.5253, -0.4851, -0.4543, -0.4499, -0.4113, -0.3942, -0.3781]),\n  tensor([-0.3797])),\n (tensor([-0.5253, -0.4851, -0.4543, -0.4499, -0.4113, -0.3942, -0.3781, -0.3797]),\n  tensor([-0.4241])),\n (tensor([-0.4851, -0.4543, -0.4499, -0.4113, -0.3942, -0.3781, -0.3797, -0.4241]),\n  tensor([-0.4138])),\n (tensor([-0.4543, -0.4499, -0.4113, -0.3942, -0.3781, -0.3797, -0.4241, -0.4138]),\n  tensor([-0.3800])),\n (tensor([-0.4499, -0.4113, -0.3942, -0.3781, -0.3797, -0.4241, -0.4138, -0.3800]),\n  tensor([-0.3439])),\n (tensor([-0.4113, -0.3942, -0.3781, -0.3797, -0.4241, -0.4138, -0.3800, -0.3439]),\n  tensor([-0.3197])),\n (tensor([-0.3942, -0.3781, -0.3797, -0.4241, -0.4138, -0.3800, -0.3439, -0.3197]),\n  tensor([-0.2701])),\n (tensor([-0.3781, -0.3797, -0.4241, -0.4138, -0.3800, -0.3439, -0.3197, -0.2701]),\n  tensor([-0.2047])),\n (tensor([-0.3797, -0.4241, -0.4138, -0.3800, -0.3439, -0.3197, -0.2701, -0.2047]),\n  tensor([-0.2353])),\n (tensor([-0.4241, -0.4138, -0.3800, -0.3439, -0.3197, -0.2701, -0.2047, -0.2353]),\n  tensor([-0.2444])),\n (tensor([-0.4138, -0.3800, -0.3439, -0.3197, -0.2701, -0.2047, -0.2353, -0.2444]),\n  tensor([-0.1120])),\n (tensor([-0.3800, -0.3439, -0.3197, -0.2701, -0.2047, -0.2353, -0.2444, -0.1120]),\n  tensor([-0.0750])),\n (tensor([-0.3439, -0.3197, -0.2701, -0.2047, -0.2353, -0.2444, -0.1120, -0.0750]),\n  tensor([-0.1301])),\n (tensor([-0.3197, -0.2701, -0.2047, -0.2353, -0.2444, -0.1120, -0.0750, -0.1301]),\n  tensor([-0.1442])),\n (tensor([-0.2701, -0.2047, -0.2353, -0.2444, -0.1120, -0.0750, -0.1301, -0.1442]),\n  tensor([-0.1527])),\n (tensor([-0.2047, -0.2353, -0.2444, -0.1120, -0.0750, -0.1301, -0.1442, -0.1527]),\n  tensor([-0.0488])),\n (tensor([-0.2353, -0.2444, -0.1120, -0.0750, -0.1301, -0.1442, -0.1527, -0.0488]),\n  tensor([0.0146])),\n (tensor([-0.2444, -0.1120, -0.0750, -0.1301, -0.1442, -0.1527, -0.0488,  0.0146]),\n  tensor([0.0221])),\n (tensor([-0.1120, -0.0750, -0.1301, -0.1442, -0.1527, -0.0488,  0.0146,  0.0221]),\n  tensor([0.0012])),\n (tensor([-0.0750, -0.1301, -0.1442, -0.1527, -0.0488,  0.0146,  0.0221,  0.0012]),\n  tensor([-0.0181])),\n (tensor([-0.1301, -0.1442, -0.1527, -0.0488,  0.0146,  0.0221,  0.0012, -0.0181]),\n  tensor([0.0071])),\n (tensor([-0.1442, -0.1527, -0.0488,  0.0146,  0.0221,  0.0012, -0.0181,  0.0071]),\n  tensor([0.0470])),\n (tensor([-0.1527, -0.0488,  0.0146,  0.0221,  0.0012, -0.0181,  0.0071,  0.0470]),\n  tensor([0.2164])),\n (tensor([-0.0488,  0.0146,  0.0221,  0.0012, -0.0181,  0.0071,  0.0470,  0.2164]),\n  tensor([0.2441])),\n (tensor([ 0.0146,  0.0221,  0.0012, -0.0181,  0.0071,  0.0470,  0.2164,  0.2441]),\n  tensor([0.6107])),\n (tensor([ 0.0221,  0.0012, -0.0181,  0.0071,  0.0470,  0.2164,  0.2441,  0.6107]),\n  tensor([0.9140])),\n (tensor([ 0.0012, -0.0181,  0.0071,  0.0470,  0.2164,  0.2441,  0.6107,  0.9140]),\n  tensor([0.4824])),\n (tensor([-0.0181,  0.0071,  0.0470,  0.2164,  0.2441,  0.6107,  0.9140,  0.4824]),\n  tensor([0.5228])),\n (tensor([0.0071, 0.0470, 0.2164, 0.2441, 0.6107, 0.9140, 0.4824, 0.5228]),\n  tensor([0.5203])),\n (tensor([0.0470, 0.2164, 0.2441, 0.6107, 0.9140, 0.4824, 0.5228, 0.5203]),\n  tensor([0.5860])),\n (tensor([0.2164, 0.2441, 0.6107, 0.9140, 0.4824, 0.5228, 0.5203, 0.5860]),\n  tensor([0.5948])),\n (tensor([0.2441, 0.6107, 0.9140, 0.4824, 0.5228, 0.5203, 0.5860, 0.5948]),\n  tensor([0.5747])),\n (tensor([0.6107, 0.9140, 0.4824, 0.5228, 0.5203, 0.5860, 0.5948, 0.5747]),\n  tensor([0.6787])),\n (tensor([0.9140, 0.4824, 0.5228, 0.5203, 0.5860, 0.5948, 0.5747, 0.6787]),\n  tensor([0.6675])),\n (tensor([0.4824, 0.5228, 0.5203, 0.5860, 0.5948, 0.5747, 0.6787, 0.6675]),\n  tensor([0.8328])),\n (tensor([0.5228, 0.5203, 0.5860, 0.5948, 0.5747, 0.6787, 0.6675, 0.8328]),\n  tensor([1.])),\n (tensor([0.5203, 0.5860, 0.5948, 0.5747, 0.6787, 0.6675, 0.8328, 1.0000]),\n  tensor([0.9490])),\n (tensor([0.5860, 0.5948, 0.5747, 0.6787, 0.6675, 0.8328, 1.0000, 0.9490]),\n  tensor([0.9535])),\n (tensor([0.5948, 0.5747, 0.6787, 0.6675, 0.8328, 1.0000, 0.9490, 0.9535]),\n  tensor([0.7631])),\n (tensor([0.5747, 0.6787, 0.6675, 0.8328, 1.0000, 0.9490, 0.9535, 0.7631]),\n  tensor([0.6671])),\n (tensor([0.6787, 0.6675, 0.8328, 1.0000, 0.9490, 0.9535, 0.7631, 0.6671]),\n  tensor([0.6073])),\n (tensor([0.6675, 0.8328, 1.0000, 0.9490, 0.9535, 0.7631, 0.6671, 0.6073]),\n  tensor([0.3246])),\n (tensor([0.8328, 1.0000, 0.9490, 0.9535, 0.7631, 0.6671, 0.6073, 0.3246]),\n  tensor([0.2934])),\n (tensor([1.0000, 0.9490, 0.9535, 0.7631, 0.6671, 0.6073, 0.3246, 0.2934]),\n  tensor([0.5077])),\n (tensor([0.9490, 0.9535, 0.7631, 0.6671, 0.6073, 0.3246, 0.2934, 0.5077]),\n  tensor([0.5130])),\n (tensor([0.9535, 0.7631, 0.6671, 0.6073, 0.3246, 0.2934, 0.5077, 0.5130]),\n  tensor([0.5243])),\n (tensor([0.7631, 0.6671, 0.6073, 0.3246, 0.2934, 0.5077, 0.5130, 0.5243]),\n  tensor([0.4536])),\n (tensor([0.6671, 0.6073, 0.3246, 0.2934, 0.5077, 0.5130, 0.5243, 0.4536]),\n  tensor([0.3940])),\n (tensor([0.6073, 0.3246, 0.2934, 0.5077, 0.5130, 0.5243, 0.4536, 0.3940]),\n  tensor([0.1235])),\n (tensor([0.3246, 0.2934, 0.5077, 0.5130, 0.5243, 0.4536, 0.3940, 0.1235]),\n  tensor([0.2292])),\n (tensor([0.2934, 0.5077, 0.5130, 0.5243, 0.4536, 0.3940, 0.1235, 0.2292]),\n  tensor([0.1978])),\n (tensor([0.5077, 0.5130, 0.5243, 0.4536, 0.3940, 0.1235, 0.2292, 0.1978]),\n  tensor([-0.0109])),\n (tensor([ 0.5130,  0.5243,  0.4536,  0.3940,  0.1235,  0.2292,  0.1978, -0.0109]),\n  tensor([-0.0504])),\n (tensor([ 0.5243,  0.4536,  0.3940,  0.1235,  0.2292,  0.1978, -0.0109, -0.0504]),\n  tensor([-0.3381])),\n (tensor([ 0.4536,  0.3940,  0.1235,  0.2292,  0.1978, -0.0109, -0.0504, -0.3381]),\n  tensor([-0.3802])),\n (tensor([ 0.3940,  0.1235,  0.2292,  0.1978, -0.0109, -0.0504, -0.3381, -0.3802]),\n  tensor([-0.5756])),\n (tensor([ 0.1235,  0.2292,  0.1978, -0.0109, -0.0504, -0.3381, -0.3802, -0.5756]),\n  tensor([-0.3874])),\n (tensor([ 0.2292,  0.1978, -0.0109, -0.0504, -0.3381, -0.3802, -0.5756, -0.3874]),\n  tensor([-0.3878])),\n (tensor([ 0.1978, -0.0109, -0.0504, -0.3381, -0.3802, -0.5756, -0.3874, -0.3878]),\n  tensor([-0.3686])),\n (tensor([-0.0109, -0.0504, -0.3381, -0.3802, -0.5756, -0.3874, -0.3878, -0.3686]),\n  tensor([-0.1683]))]"
     },
     "metadata": {},
     "output_type": "execute_result",
     "execution_count": 647
    }
   ],
   "source": [
    "train_window = 8\n",
    "train_inout_seq = create_inout_sequences(train_data_normalized, train_window)\n",
    "train_inout_seq"
   ],
   "metadata": {
    "collapsed": false,
    "pycharm": {
     "name": "#%%\n",
     "is_executing": false
    }
   }
  },
  {
   "cell_type": "markdown",
   "source": [
    "## LSTM"
   ],
   "metadata": {
    "collapsed": false
   }
  },
  {
   "cell_type": "code",
   "execution_count": 648,
   "outputs": [],
   "source": [
    "class TimeSeriesPredictor(nn.Module):\n",
    "  def __init__(self, n_hidden, window, n_layers=2):\n",
    "      super(TimeSeriesPredictor, self).__init__()\n",
    "      self.lstm = nn.LSTM(input_size=1, hidden_size=n_hidden, num_layers=n_layers, dropout=0.5, batch_first=True)\n",
    "      self.linear = nn.Linear(in_features=n_hidden*window, out_features=1)\n",
    "      self.loss_fn = torch.nn.MSELoss()\n",
    "      \n",
    "  def forward(self, batch, state=None, target=None):\n",
    "      out, state = self.lstm(batch.unsqueeze(2), state)\n",
    "      out = out.reshape([out.size(0), out.size(1)*out.size(2)])\n",
    "      out = self.linear(out)\n",
    "      if not target is None :\n",
    "          loss = self.loss_fn(out, target.unsqueeze(1))\n",
    "          return out, state, loss\n",
    "      return out, state\n",
    "      "
   ],
   "metadata": {
    "collapsed": false,
    "pycharm": {
     "name": "#%%\n",
     "is_executing": false
    }
   }
  },
  {
   "cell_type": "code",
   "execution_count": 701,
   "outputs": [
    {
     "name": "stderr",
     "text": [
      "C:\\Users\\m31k0l2\\Anaconda3\\envs\\py38\\lib\\site-packages\\torch\\nn\\modules\\rnn.py:47: UserWarning: dropout option adds dropout after all but last recurrent layer, so non-zero dropout expects num_layers greater than 1, but got dropout=0.5 and num_layers=1\n  warnings.warn(\"dropout option adds dropout after all but last \"\n"
     ],
     "output_type": "stream"
    },
    {
     "data": {
      "text/plain": "TimeSeriesPredictor(\n  (lstm): LSTM(1, 256, batch_first=True, dropout=0.5)\n  (linear): Linear(in_features=2048, out_features=1, bias=True)\n  (loss_fn): MSELoss()\n)"
     },
     "metadata": {},
     "output_type": "execute_result",
     "execution_count": 701
    }
   ],
   "source": [
    "n_hidden = 256\n",
    "n_layers = 1\n",
    "model = TimeSeriesPredictor(n_hidden=n_hidden, window=train_window, n_layers=n_layers)\n",
    "model.cuda()"
   ],
   "metadata": {
    "collapsed": false,
    "pycharm": {
     "name": "#%%\n",
     "is_executing": false
    }
   }
  },
  {
   "cell_type": "code",
   "execution_count": 702,
   "outputs": [],
   "source": [
    "inputs = []\n",
    "targets = []\n",
    "for seq, target in train_inout_seq:\n",
    "    inputs += [seq]\n",
    "    targets += target\n",
    "inputs = torch.stack(inputs)\n",
    "targets = torch.stack(targets)"
   ],
   "metadata": {
    "collapsed": false,
    "pycharm": {
     "name": "#%%\n",
     "is_executing": false
    }
   }
  },
  {
   "cell_type": "code",
   "execution_count": 703,
   "outputs": [],
   "source": [
    "optimizer = torch.optim.Adam(model.parameters(), lr=0.001)"
   ],
   "metadata": {
    "collapsed": false,
    "pycharm": {
     "name": "#%%\n",
     "is_executing": false
    }
   }
  },
  {
   "cell_type": "code",
   "execution_count": 704,
   "outputs": [
    {
     "name": "stderr",
     "text": [
      "\r  0%|          | 0/64 [00:00<?, ?it/s]",
      "\r  3%|▎         | 2/64 [00:00<00:04, 12.42it/s]",
      "\r  6%|▋         | 4/64 [00:00<00:05, 11.48it/s]",
      "\r  9%|▉         | 6/64 [00:00<00:04, 12.09it/s]",
      "\r 12%|█▎        | 8/64 [00:00<00:04, 12.63it/s]",
      "\r 16%|█▌        | 10/64 [00:00<00:04, 11.36it/s]",
      "\r 19%|█▉        | 12/64 [00:01<00:04, 11.93it/s]",
      "\r 22%|██▏       | 14/64 [00:01<00:04, 12.37it/s]",
      "\r 25%|██▌       | 16/64 [00:01<00:04, 11.63it/s]",
      "\r 28%|██▊       | 18/64 [00:01<00:03, 12.18it/s]",
      "\r 31%|███▏      | 20/64 [00:01<00:03, 12.55it/s]",
      "\r 34%|███▍      | 22/64 [00:01<00:03, 11.72it/s]",
      "\r 38%|███▊      | 24/64 [00:01<00:03, 12.25it/s]",
      "\r 41%|████      | 26/64 [00:02<00:02, 12.75it/s]",
      "\r 44%|████▍     | 28/64 [00:02<00:03, 11.34it/s]",
      "\r 47%|████▋     | 30/64 [00:02<00:02, 11.64it/s]",
      "\r 50%|█████     | 32/64 [00:02<00:02, 11.95it/s]",
      "\r 53%|█████▎    | 34/64 [00:02<00:02, 12.33it/s]",
      "\r 56%|█████▋    | 36/64 [00:02<00:02, 12.71it/s]",
      "\r 59%|█████▉    | 38/64 [00:03<00:02, 11.40it/s]",
      "\r 62%|██████▎   | 40/64 [00:03<00:02, 11.64it/s]",
      "\r 66%|██████▌   | 42/64 [00:03<00:01, 11.52it/s]",
      "\r 69%|██████▉   | 44/64 [00:03<00:01, 11.84it/s]",
      "\r 72%|███████▏  | 46/64 [00:03<00:01, 11.99it/s]",
      "\r 75%|███████▌  | 48/64 [00:04<00:01, 12.38it/s]",
      "\r 78%|███████▊  | 50/64 [00:04<00:01, 12.65it/s]",
      "\r 81%|████████▏ | 52/64 [00:04<00:00, 12.04it/s]",
      "\r 84%|████████▍ | 54/64 [00:04<00:00, 12.33it/s]",
      "\r 88%|████████▊ | 56/64 [00:04<00:00, 12.47it/s]",
      "\r 91%|█████████ | 58/64 [00:04<00:00, 12.67it/s]",
      "\r 94%|█████████▍| 60/64 [00:04<00:00, 12.84it/s]",
      "\r 97%|█████████▋| 62/64 [00:05<00:00, 12.81it/s]",
      "\r100%|██████████| 64/64 [00:05<00:00, 12.91it/s]",
      "\r100%|██████████| 64/64 [00:05<00:00, 12.16it/s]",
      "\n"
     ],
     "output_type": "stream"
    }
   ],
   "source": [
    "from tqdm import tqdm\n",
    "num_epochs = 64\n",
    "\n",
    "model.train()    \n",
    "for epoch in tqdm(range(num_epochs)):    \n",
    "    state = (torch.zeros([n_layers, batch_size, n_hidden]).cuda(), torch.zeros([n_layers, batch_size, n_hidden]).cuda())\n",
    "    for i in range(inputs.size(0) // batch_size):\n",
    "        optimizer.zero_grad()\n",
    "        batch = inputs[i*batch_size: (i+1)*batch_size]\n",
    "        target = targets[i*batch_size: (i+1)*batch_size]\n",
    "        out, state, loss = model(batch.cuda(), state, target=target.cuda())\n",
    "        state = [s.detach() for s in state]\n",
    "        loss.backward()\n",
    "        optimizer.step()"
   ],
   "metadata": {
    "collapsed": false,
    "pycharm": {
     "name": "#%%\n",
     "is_executing": false
    }
   }
  },
  {
   "cell_type": "code",
   "execution_count": 705,
   "outputs": [
    {
     "data": {
      "text/plain": "tensor(0.0356, device='cuda:0', grad_fn=<MseLossBackward>)"
     },
     "metadata": {},
     "output_type": "execute_result",
     "execution_count": 705
    }
   ],
   "source": [
    "loss"
   ],
   "metadata": {
    "collapsed": false,
    "pycharm": {
     "name": "#%%\n",
     "is_executing": false
    }
   }
  },
  {
   "cell_type": "markdown",
   "source": [
    "## eval"
   ],
   "metadata": {
    "collapsed": false
   }
  },
  {
   "cell_type": "code",
   "execution_count": 706,
   "outputs": [
    {
     "data": {
      "text/plain": "TimeSeriesPredictor(\n  (lstm): LSTM(1, 256, batch_first=True, dropout=0.5)\n  (linear): Linear(in_features=2048, out_features=1, bias=True)\n  (loss_fn): MSELoss()\n)"
     },
     "metadata": {},
     "output_type": "execute_result",
     "execution_count": 706
    }
   ],
   "source": [
    "model.eval()\n",
    "model.cpu()"
   ],
   "metadata": {
    "collapsed": false,
    "pycharm": {
     "name": "#%%\n",
     "is_executing": false
    }
   }
  },
  {
   "cell_type": "code",
   "execution_count": 733,
   "outputs": [
    {
     "data": {
      "text/plain": "<Figure size 432x288 with 1 Axes>",
      "image/png": "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\n"
     },
     "metadata": {
      "needs_background": "light"
     },
     "output_type": "display_data"
    }
   ],
   "source": [
    "start = 39\n",
    "start_seq = torch.FloatTensor(test_data_normalized[start:start+train_window])\n",
    "n_pred = 5\n",
    "h_state = (torch.zeros([n_layers, 1, n_hidden]), torch.zeros([n_layers, 1, n_hidden]))\n",
    "outs = [start_seq[-1].unsqueeze(0)]\n",
    "seq = start_seq\n",
    "with torch.no_grad():\n",
    "    out, h_state = model(seq.unsqueeze(0), h_state)\n",
    "for i in range(n_pred):        \n",
    "    with torch.no_grad():\n",
    "        out, h_state = model(seq.unsqueeze(0), h_state)\n",
    "    seq = torch.cat((seq, out.squeeze_(0)))[-seq.size(0):]\n",
    "    outs += [out]\n",
    "outs = torch.stack(outs).squeeze(1)\n",
    "\n",
    "x = np.arange(train_window+n_pred)\n",
    "\n",
    "plt.plot(x[train_window-1:], outs.numpy())\n",
    "plt.plot(x, test_data_normalized.numpy()[start:train_window+n_pred+start])\n",
    "plt.show()"
   ],
   "metadata": {
    "collapsed": false,
    "pycharm": {
     "name": "#%%\n",
     "is_executing": false
    }
   }
  },
  {
   "cell_type": "code",
   "execution_count": 597,
   "outputs": [],
   "source": [
    "\n",
    "out, h_state = model(seq.unsqueeze(0), h_state)"
   ],
   "metadata": {
    "collapsed": false,
    "pycharm": {
     "name": "#%%\n",
     "is_executing": false
    }
   }
  },
  {
   "cell_type": "code",
   "execution_count": 599,
   "outputs": [],
   "source": [
    "state_h, state_o = h_state\n",
    "\n"
   ],
   "metadata": {
    "collapsed": false,
    "pycharm": {
     "name": "#%%\n",
     "is_executing": false
    }
   }
  },
  {
   "cell_type": "code",
   "execution_count": 601,
   "outputs": [
    {
     "data": {
      "text/plain": "tensor([[[ 2.0663e-22, -1.0000e+00,  8.1693e-05,  ...,  1.2813e-17,\n           4.0426e-01,  3.9935e-01]],\n\n        [[ 1.0000e+00,  7.6131e-01, -1.1332e-04,  ...,  9.9964e-01,\n          -1.3970e-01,  1.2221e-17]]])"
     },
     "metadata": {},
     "output_type": "execute_result",
     "execution_count": 601
    }
   ],
   "source": [
    "state_h.detach()\n",
    "\n"
   ],
   "metadata": {
    "collapsed": false,
    "pycharm": {
     "name": "#%%\n",
     "is_executing": false
    }
   }
  },
  {
   "cell_type": "code",
   "execution_count": 602,
   "outputs": [
    {
     "data": {
      "text/plain": "tensor([[[ 2.0663e-22, -1.0000e+00,  8.1693e-05,  ...,  1.2813e-17,\n           4.0426e-01,  3.9935e-01]],\n\n        [[ 1.0000e+00,  7.6131e-01, -1.1332e-04,  ...,  9.9964e-01,\n          -1.3970e-01,  1.2221e-17]]], grad_fn=<StackBackward>)"
     },
     "metadata": {},
     "output_type": "execute_result",
     "execution_count": 602
    }
   ],
   "source": [
    "state_h\n"
   ],
   "metadata": {
    "collapsed": false,
    "pycharm": {
     "name": "#%%\n",
     "is_executing": false
    }
   }
  }
 ],
 "metadata": {
  "kernelspec": {
   "display_name": "Python 3",
   "language": "python",
   "name": "python3"
  },
  "language_info": {
   "codemirror_mode": {
    "name": "ipython",
    "version": 2
   },
   "file_extension": ".py",
   "mimetype": "text/x-python",
   "name": "python",
   "nbconvert_exporter": "python",
   "pygments_lexer": "ipython2",
   "version": "2.7.6"
  },
  "pycharm": {
   "stem_cell": {
    "cell_type": "raw",
    "source": [],
    "metadata": {
     "collapsed": false
    }
   }
  }
 },
 "nbformat": 4,
 "nbformat_minor": 0
>>>>>>> parent of 335d947... .
}