{
 "cells": [
  {
   "cell_type": "code",
   "execution_count": 1,
   "outputs": [],
   "source": [
    "import pandas as pd\n",
    "import matplotlib.pyplot as plt\n",
    "import numpy as np\n",
    "import torch\n",
    "from sklearn.linear_model import LinearRegression\n",
    "from sklearn.preprocessing import MinMaxScaler\n",
    "from tqdm import tqdm\n",
    "\n",
    "from args import TrendArgs\n",
    "from company import Company\n",
    "import twitter_grabber as tw_grabber\n",
    "from datetime import datetime, timedelta\n",
    "from twitter_sentiment import TwitterSentimentModel\n",
    "from bert_args import TrainingArguments"
   ],
   "metadata": {
    "collapsed": false,
    "pycharm": {
     "name": "#%%\n",
     "is_executing": false
    }
   }
  },
  {
   "cell_type": "code",
   "execution_count": 2,
   "outputs": [],
   "source": [
    "companies = pd.read_csv(\"../dataset/companies.csv\")\n",
    "companies = dict(zip(companies.symbol, companies.name))"
   ],
   "metadata": {
    "collapsed": false,
    "pycharm": {
     "name": "#%%\n",
     "is_executing": false
    }
   }
  },
  {
   "cell_type": "code",
   "execution_count": 3,
   "outputs": [],
   "source": [
    "args = TrendArgs()\n",
    "args.stock_dataset = \"../\" + args.stock_dataset\n",
    "args.model_path = \"../\" + args.model_path"
   ],
   "metadata": {
    "collapsed": false,
    "pycharm": {
     "name": "#%%\n",
     "is_executing": false
    }
   }
  },
  {
   "cell_type": "code",
   "execution_count": 4,
   "outputs": [],
   "source": [
    "def select_best_companies(companies_symbols, days, max_loss=0.05):\n",
    "    portfolio = []\n",
    "    for symbol in tqdm(companies_symbols):\n",
    "        try:\n",
    "            company = Company(symbol, args)\n",
    "            company.load_data()\n",
    "            company.load_model()\n",
    "            history = np.array(company.data.Close[-days - args.seq_window:])\n",
    "            pred_price = company.predict(history[:10])[0]\n",
    "            price = history[9]\n",
    "            delta = pred_price - price\n",
    "            if delta > 0:\n",
    "                company.init_train_test_data()\n",
    "                loss = company.test()\n",
    "                if loss < max_loss:\n",
    "                    portfolio += [(symbol, round(delta*100/price, 2))]\n",
    "        except FileNotFoundError:\n",
    "            pass\n",
    "    return portfolio"
   ],
   "metadata": {
    "collapsed": false,
    "pycharm": {
     "name": "#%%\n",
     "is_executing": false
    }
   }
  },
  {
   "cell_type": "code",
   "execution_count": 5,
   "outputs": [
    {
     "name": "stderr",
     "text": [
      "\r  0%|          | 0/505 [00:00<?, ?it/s]",
      "\r  0%|          | 2/505 [00:00<01:12,  6.94it/s]",
      "\r  1%|          | 3/505 [00:00<01:54,  4.40it/s]",
      "\r  1%|          | 5/505 [00:00<01:35,  5.22it/s]",
      "\r  1%|          | 6/505 [00:01<02:02,  4.07it/s]",
      "\r  1%|▏         | 7/505 [00:01<01:54,  4.35it/s]",
      "\r  2%|▏         | 8/505 [00:01<02:14,  3.70it/s]",
      "\r  2%|▏         | 9/505 [00:02<02:07,  3.89it/s]",
      "\r  2%|▏         | 11/505 [00:02<01:54,  4.33it/s]",
      "\r  2%|▏         | 12/505 [00:02<02:06,  3.89it/s]",
      "\r  3%|▎         | 14/505 [00:03<01:49,  4.50it/s]",
      "\r  3%|▎         | 15/505 [00:03<02:22,  3.43it/s]",
      "\r  3%|▎         | 17/505 [00:03<02:01,  4.03it/s]",
      "\r  4%|▎         | 18/505 [00:04<02:27,  3.29it/s]",
      "\r  4%|▍         | 20/505 [00:04<02:02,  3.95it/s]",
      "\r  5%|▍         | 23/505 [00:04<01:45,  4.58it/s]",
      "\r  5%|▍         | 24/505 [00:05<01:48,  4.45it/s]",
      "\r  5%|▌         | 26/505 [00:05<01:43,  4.65it/s]",
      "\r  5%|▌         | 27/505 [00:05<01:41,  4.69it/s]",
      "\r  6%|▌         | 28/505 [00:06<02:01,  3.93it/s]",
      "\r  6%|▌         | 29/505 [00:06<01:55,  4.12it/s]",
      "\r  6%|▋         | 32/505 [00:06<01:38,  4.80it/s]",
      "\r  7%|▋         | 33/505 [00:06<01:49,  4.30it/s]",
      "\r  7%|▋         | 34/505 [00:07<01:53,  4.14it/s]",
      "\r  7%|▋         | 36/505 [00:07<01:46,  4.39it/s]",
      "\r  8%|▊         | 39/505 [00:07<01:26,  5.36it/s]",
      "\r  8%|▊         | 40/505 [00:08<01:56,  3.99it/s]",
      "\r  8%|▊         | 41/505 [00:08<01:50,  4.19it/s]",
      "\r  9%|▊         | 44/505 [00:08<01:31,  5.02it/s]",
      "\r  9%|▉         | 45/505 [00:09<01:29,  5.13it/s]",
      "\r  9%|▉         | 46/505 [00:09<01:54,  4.01it/s]",
      "\r 10%|▉         | 48/505 [00:09<01:34,  4.86it/s]",
      "\r 10%|█         | 51/505 [00:09<01:24,  5.39it/s]",
      "\r 10%|█         | 52/505 [00:10<01:37,  4.63it/s]",
      "\r 11%|█         | 54/505 [00:10<01:31,  4.91it/s]",
      "\r 11%|█         | 55/505 [00:10<01:29,  5.03it/s]",
      "\r 11%|█         | 56/505 [00:11<01:56,  3.86it/s]",
      "\r 11%|█▏        | 57/505 [00:11<01:48,  4.12it/s]",
      "\r 11%|█▏        | 58/505 [00:11<02:01,  3.69it/s]",
      "\r 12%|█▏        | 59/505 [00:11<01:48,  4.11it/s]",
      "\r 12%|█▏        | 60/505 [00:12<01:48,  4.09it/s]",
      "\r 12%|█▏        | 61/505 [00:12<01:42,  4.35it/s]",
      "\r 12%|█▏        | 62/505 [00:12<02:00,  3.67it/s]",
      "\r 13%|█▎        | 65/505 [00:13<01:41,  4.32it/s]",
      "\r 13%|█▎        | 66/505 [00:13<01:42,  4.29it/s]",
      "\r 13%|█▎        | 68/505 [00:13<01:38,  4.42it/s]",
      "\r 14%|█▍        | 71/505 [00:14<01:21,  5.33it/s]",
      "\r 14%|█▍        | 72/505 [00:14<01:38,  4.37it/s]",
      "\r 14%|█▍        | 73/505 [00:14<01:39,  4.34it/s]",
      "\r 15%|█▌        | 76/505 [00:15<01:26,  4.98it/s]",
      "\r 15%|█▌        | 78/505 [00:15<01:13,  5.78it/s]",
      "\r 16%|█▌        | 79/505 [00:15<01:33,  4.55it/s]",
      "\r 16%|█▌        | 82/505 [00:15<01:16,  5.54it/s]",
      "\r 16%|█▋        | 83/505 [00:16<01:40,  4.21it/s]",
      "\r 17%|█▋        | 87/505 [00:16<01:13,  5.68it/s]",
      "\r 18%|█▊        | 89/505 [00:16<01:13,  5.63it/s]",
      "\r 18%|█▊        | 91/505 [00:17<01:26,  4.80it/s]",
      "\r 18%|█▊        | 92/505 [00:17<01:24,  4.91it/s]",
      "\r 18%|█▊        | 93/505 [00:17<01:36,  4.28it/s]",
      "\r 19%|█▉        | 95/505 [00:18<01:20,  5.12it/s]",
      "\r 19%|█▉        | 96/505 [00:18<01:40,  4.09it/s]",
      "\r 19%|█▉        | 97/505 [00:18<01:37,  4.20it/s]",
      "\r 19%|█▉        | 98/505 [00:18<01:47,  3.80it/s]",
      "\r 20%|█▉        | 100/505 [00:19<01:28,  4.60it/s]",
      "\r 20%|██        | 101/505 [00:19<01:40,  4.02it/s]",
      "\r 20%|██        | 102/505 [00:19<01:31,  4.42it/s]",
      "\r 20%|██        | 103/505 [00:19<01:37,  4.11it/s]",
      "\r 21%|██        | 105/505 [00:20<01:22,  4.82it/s]",
      "\r 21%|██        | 106/505 [00:20<01:36,  4.13it/s]",
      "\r 21%|██▏       | 108/505 [00:20<01:19,  4.96it/s]",
      "\r 22%|██▏       | 109/505 [00:21<01:35,  4.16it/s]",
      "\r 22%|██▏       | 112/505 [00:21<01:16,  5.16it/s]",
      "\r 23%|██▎       | 114/505 [00:21<01:13,  5.31it/s]",
      "\r 23%|██▎       | 115/505 [00:21<01:13,  5.33it/s]",
      "\r 23%|██▎       | 118/505 [00:22<01:05,  5.88it/s]",
      "\r 24%|██▍       | 121/505 [00:22<00:54,  7.01it/s]",
      "\r 24%|██▍       | 123/505 [00:22<00:58,  6.51it/s]",
      "\r 25%|██▍       | 124/505 [00:22<01:01,  6.24it/s]",
      "\r 25%|██▍       | 125/505 [00:23<01:19,  4.77it/s]",
      "\r 25%|██▌       | 127/505 [00:23<01:07,  5.59it/s]",
      "\r 26%|██▌       | 130/505 [00:23<00:51,  7.29it/s]",
      "\r 26%|██▌       | 132/505 [00:24<01:02,  5.97it/s]",
      "\r 27%|██▋       | 134/505 [00:24<00:56,  6.58it/s]",
      "\r 27%|██▋       | 135/505 [00:24<01:14,  4.98it/s]",
      "\r 27%|██▋       | 137/505 [00:24<01:04,  5.72it/s]",
      "\r 27%|██▋       | 138/505 [00:25<01:20,  4.56it/s]",
      "\r 28%|██▊       | 139/505 [00:25<01:15,  4.82it/s]",
      "\r 28%|██▊       | 143/505 [00:25<01:03,  5.70it/s]",
      "\r 29%|██▊       | 144/505 [00:26<01:08,  5.30it/s]",
      "\r 29%|██▊       | 145/505 [00:26<01:23,  4.32it/s]",
      "\r 29%|██▉       | 146/505 [00:26<01:21,  4.39it/s]",
      "\r 29%|██▉       | 147/505 [00:26<01:32,  3.86it/s]",
      "\r 30%|██▉       | 149/505 [00:27<01:16,  4.66it/s]",
      "\r 30%|██▉       | 150/505 [00:27<01:28,  4.00it/s]",
      "\r 30%|███       | 153/505 [00:27<01:09,  5.04it/s]",
      "\r 31%|███       | 156/505 [00:27<00:52,  6.68it/s]",
      "\r 31%|███▏      | 159/505 [00:28<00:45,  7.58it/s]",
      "\r 32%|███▏      | 161/505 [00:28<00:56,  6.10it/s]",
      "\r 33%|███▎      | 165/505 [00:28<00:46,  7.36it/s]",
      "\r 33%|███▎      | 167/505 [00:29<00:50,  6.63it/s]",
      "\r 33%|███▎      | 168/505 [00:29<00:55,  6.05it/s]",
      "\r 33%|███▎      | 169/505 [00:29<01:07,  4.95it/s]",
      "\r 34%|███▎      | 170/505 [00:29<01:05,  5.09it/s]",
      "\r 34%|███▍      | 171/505 [00:30<01:15,  4.44it/s]",
      "\r 34%|███▍      | 172/505 [00:30<01:12,  4.60it/s]",
      "\r 34%|███▍      | 173/505 [00:30<01:20,  4.11it/s]",
      "\r 34%|███▍      | 174/505 [00:30<01:14,  4.43it/s]",
      "\r 35%|███▍      | 175/505 [00:31<01:24,  3.89it/s]",
      "\r 35%|███▍      | 176/505 [00:31<01:18,  4.19it/s]",
      "\r 35%|███▌      | 178/505 [00:31<01:11,  4.60it/s]",
      "\r 36%|███▌      | 182/505 [00:31<00:55,  5.83it/s]",
      "\r 36%|███▌      | 183/505 [00:32<01:10,  4.54it/s]",
      "\r 37%|███▋      | 185/505 [00:32<00:59,  5.40it/s]",
      "\r 37%|███▋      | 187/505 [00:32<00:57,  5.53it/s]",
      "\r 37%|███▋      | 188/505 [00:33<00:58,  5.45it/s]",
      "\r 37%|███▋      | 189/505 [00:33<01:08,  4.58it/s]",
      "\r 38%|███▊      | 191/505 [00:33<00:57,  5.46it/s]",
      "\r 38%|███▊      | 193/505 [00:33<00:55,  5.58it/s]",
      "\r 39%|███▊      | 195/505 [00:34<00:49,  6.31it/s]",
      "\r 39%|███▉      | 196/505 [00:34<01:03,  4.88it/s]",
      "\r 39%|███▉      | 197/505 [00:34<01:04,  4.75it/s]",
      "\r 39%|███▉      | 199/505 [00:34<01:01,  4.98it/s]",
      "\r 40%|███▉      | 201/505 [00:35<00:52,  5.75it/s]",
      "\r 40%|████      | 203/505 [00:35<00:51,  5.90it/s]",
      "\r 41%|████      | 207/505 [00:35<00:38,  7.81it/s]",
      "\r 41%|████▏     | 209/505 [00:36<00:48,  6.12it/s]",
      "\r 42%|████▏     | 211/505 [00:36<00:55,  5.32it/s]",
      "\r 42%|████▏     | 213/505 [00:36<00:50,  5.82it/s]",
      "\r 43%|████▎     | 215/505 [00:37<00:51,  5.60it/s]",
      "\r 43%|████▎     | 217/505 [00:37<00:45,  6.37it/s]",
      "\r 43%|████▎     | 218/505 [00:37<01:00,  4.78it/s]",
      "\r 44%|████▍     | 222/505 [00:38<00:47,  5.94it/s]",
      "\r 44%|████▍     | 224/505 [00:38<00:38,  7.38it/s]",
      "\r 45%|████▍     | 226/505 [00:38<00:35,  7.77it/s]",
      "\r 45%|████▌     | 228/505 [00:38<00:39,  6.95it/s]",
      "\r 45%|████▌     | 229/505 [00:39<00:42,  6.51it/s]",
      "\r 46%|████▌     | 230/505 [00:39<00:54,  5.09it/s]",
      "\r 46%|████▌     | 232/505 [00:39<00:45,  5.96it/s]",
      "\r 47%|████▋     | 236/505 [00:39<00:34,  7.85it/s]",
      "\r 47%|████▋     | 238/505 [00:40<00:42,  6.26it/s]",
      "\r 48%|████▊     | 240/505 [00:40<00:35,  7.45it/s]",
      "\r 48%|████▊     | 242/505 [00:40<00:36,  7.25it/s]",
      "\r 48%|████▊     | 244/505 [00:40<00:35,  7.43it/s]",
      "\r 49%|████▊     | 245/505 [00:41<00:48,  5.33it/s]",
      "\r 49%|████▊     | 246/505 [00:41<00:48,  5.37it/s]",
      "\r 49%|████▉     | 247/505 [00:41<00:54,  4.77it/s]",
      "\r 49%|████▉     | 248/505 [00:41<00:55,  4.65it/s]",
      "\r 49%|████▉     | 249/505 [00:42<01:03,  4.02it/s]",
      "\r 50%|████▉     | 250/505 [00:42<00:58,  4.37it/s]",
      "\r 50%|████▉     | 251/505 [00:42<01:02,  4.08it/s]",
      "\r 50%|████▉     | 252/505 [00:42<00:59,  4.25it/s]",
      "\r 51%|█████     | 256/505 [00:43<00:47,  5.19it/s]",
      "\r 51%|█████     | 257/505 [00:43<00:48,  5.12it/s]",
      "\r 51%|█████     | 258/505 [00:43<00:55,  4.47it/s]",
      "\r 51%|█████▏    | 260/505 [00:43<00:46,  5.26it/s]",
      "\r 52%|█████▏    | 261/505 [00:44<00:55,  4.38it/s]",
      "\r 52%|█████▏    | 263/505 [00:44<00:46,  5.23it/s]",
      "\r 52%|█████▏    | 264/505 [00:44<00:54,  4.46it/s]",
      "\r 52%|█████▏    | 265/505 [00:44<00:53,  4.45it/s]",
      "\r 53%|█████▎    | 266/505 [00:45<01:00,  3.96it/s]",
      "\r 53%|█████▎    | 270/505 [00:45<00:46,  5.09it/s]",
      "\r 54%|█████▍    | 272/505 [00:45<00:43,  5.33it/s]",
      "\r 54%|█████▍    | 274/505 [00:46<00:37,  6.12it/s]",
      "\r 54%|█████▍    | 275/505 [00:46<00:48,  4.73it/s]",
      "\r 55%|█████▍    | 276/505 [00:46<00:48,  4.72it/s]",
      "\r 55%|█████▍    | 277/505 [00:46<00:54,  4.20it/s]",
      "\r 55%|█████▌    | 278/505 [00:47<00:51,  4.39it/s]",
      "\r 55%|█████▌    | 279/505 [00:47<00:57,  3.96it/s]",
      "\r 56%|█████▌    | 281/505 [00:47<00:48,  4.65it/s]",
      "\r 56%|█████▌    | 283/505 [00:48<00:44,  5.00it/s]",
      "\r 57%|█████▋    | 286/505 [00:48<00:32,  6.66it/s]",
      "\r 57%|█████▋    | 288/505 [00:48<00:33,  6.46it/s]",
      "\r 57%|█████▋    | 290/505 [00:48<00:38,  5.61it/s]",
      "\r 58%|█████▊    | 291/505 [00:49<00:38,  5.50it/s]",
      "\r 58%|█████▊    | 294/505 [00:49<00:34,  6.10it/s]",
      "\r 58%|█████▊    | 295/505 [00:49<00:37,  5.64it/s]",
      "\r 59%|█████▉    | 298/505 [00:50<00:33,  6.19it/s]",
      "\r 59%|█████▉    | 299/505 [00:50<00:37,  5.55it/s]",
      "\r 60%|█████▉    | 301/505 [00:50<00:36,  5.64it/s]",
      "\r 60%|██████    | 303/505 [00:50<00:31,  6.44it/s]",
      "\r 60%|██████    | 304/505 [00:51<00:40,  4.98it/s]",
      "\r 61%|██████    | 306/505 [00:51<00:34,  5.70it/s]",
      "\r 61%|██████    | 308/505 [00:51<00:34,  5.74it/s]",
      "\r 62%|██████▏   | 312/505 [00:51<00:27,  7.03it/s]",
      "\r 62%|██████▏   | 314/505 [00:52<00:28,  6.79it/s]",
      "\r 63%|██████▎   | 316/505 [00:52<00:25,  7.44it/s]",
      "\r 63%|██████▎   | 318/505 [00:52<00:27,  6.92it/s]",
      "\r 63%|██████▎   | 319/505 [00:53<00:29,  6.31it/s]",
      "\r 63%|██████▎   | 320/505 [00:53<00:38,  4.86it/s]",
      "\r 64%|██████▎   | 321/505 [00:53<00:36,  5.05it/s]",
      "\r 64%|██████▍   | 323/505 [00:53<00:34,  5.30it/s]",
      "\r 64%|██████▍   | 325/505 [00:54<00:29,  6.09it/s]",
      "\r 65%|██████▍   | 328/505 [00:54<00:22,  7.90it/s]",
      "\r 65%|██████▌   | 330/505 [00:54<00:21,  8.25it/s]",
      "\r 66%|██████▌   | 332/505 [00:54<00:23,  7.29it/s]",
      "\r 66%|██████▌   | 333/505 [00:54<00:25,  6.63it/s]",
      "\r 66%|██████▌   | 334/505 [00:55<00:33,  5.14it/s]",
      "\r 67%|██████▋   | 337/505 [00:55<00:26,  6.26it/s]",
      "\r 67%|██████▋   | 340/505 [00:55<00:20,  8.18it/s]",
      "\r 68%|██████▊   | 342/505 [00:55<00:19,  8.20it/s]",
      "\r 68%|██████▊   | 344/505 [00:56<00:21,  7.37it/s]",
      "\r 69%|██████▊   | 347/505 [00:56<00:18,  8.40it/s]",
      "\r 69%|██████▉   | 349/505 [00:56<00:20,  7.57it/s]",
      "\r 70%|██████▉   | 352/505 [00:56<00:17,  8.52it/s]",
      "\r 70%|███████   | 354/505 [00:57<00:24,  6.14it/s]",
      "\r 70%|███████   | 355/505 [00:57<00:24,  6.02it/s]",
      "\r 70%|███████   | 356/505 [00:57<00:29,  5.13it/s]",
      "\r 71%|███████▏  | 360/505 [00:58<00:21,  6.86it/s]",
      "\r 72%|███████▏  | 363/505 [00:58<00:19,  7.31it/s]",
      "\r 72%|███████▏  | 365/505 [00:58<00:23,  6.03it/s]",
      "\r 73%|███████▎  | 367/505 [00:59<00:20,  6.78it/s]",
      "\r 73%|███████▎  | 370/505 [00:59<00:18,  7.13it/s]",
      "\r 73%|███████▎  | 371/505 [00:59<00:21,  6.37it/s]",
      "\r 74%|███████▍  | 374/505 [00:59<00:18,  6.92it/s]",
      "\r 74%|███████▍  | 376/505 [01:00<00:17,  7.53it/s]",
      "\r 75%|███████▌  | 379/505 [01:00<00:16,  7.72it/s]",
      "\r 75%|███████▌  | 381/505 [01:00<00:15,  8.23it/s]",
      "\r 76%|███████▌  | 382/505 [01:01<00:20,  5.99it/s]",
      "\r 76%|███████▌  | 383/505 [01:01<00:22,  5.47it/s]",
      "\r 76%|███████▋  | 386/505 [01:01<00:19,  6.12it/s]",
      "\r 77%|███████▋  | 387/505 [01:01<00:21,  5.50it/s]",
      "\r 77%|███████▋  | 388/505 [01:02<00:25,  4.57it/s]",
      "\r 77%|███████▋  | 389/505 [01:02<00:25,  4.52it/s]",
      "\r 77%|███████▋  | 391/505 [01:02<00:23,  4.93it/s]",
      "\r 78%|███████▊  | 395/505 [01:03<00:18,  6.09it/s]",
      "\r 79%|███████▊  | 397/505 [01:03<00:17,  6.20it/s]",
      "\r 79%|███████▉  | 398/505 [01:03<00:17,  6.02it/s]",
      "\r 79%|███████▉  | 399/505 [01:03<00:20,  5.17it/s]",
      "\r 79%|███████▉  | 401/505 [01:03<00:17,  5.83it/s]",
      "\r 80%|███████▉  | 403/505 [01:04<00:17,  5.90it/s]",
      "\r 80%|████████  | 404/505 [01:04<00:17,  5.71it/s]",
      "\r 80%|████████  | 405/505 [01:04<00:20,  4.99it/s]",
      "\r 80%|████████  | 406/505 [01:04<00:19,  5.13it/s]",
      "\r 81%|████████  | 408/505 [01:05<00:17,  5.41it/s]",
      "\r 81%|████████  | 409/505 [01:05<00:17,  5.39it/s]",
      "\r 81%|████████  | 410/505 [01:05<00:19,  4.83it/s]",
      "\r 81%|████████▏ | 411/505 [01:05<00:19,  4.75it/s]",
      "\r 82%|████████▏ | 414/505 [01:06<00:14,  6.24it/s]",
      "\r 82%|████████▏ | 416/505 [01:06<00:16,  5.51it/s]",
      "\r 83%|████████▎ | 417/505 [01:06<00:15,  5.58it/s]",
      "\r 83%|████████▎ | 418/505 [01:06<00:17,  4.89it/s]",
      "\r 83%|████████▎ | 420/505 [01:07<00:14,  5.67it/s]",
      "\r 84%|████████▎ | 422/505 [01:07<00:14,  5.86it/s]",
      "\r 84%|████████▍ | 424/505 [01:07<00:12,  6.67it/s]",
      "\r 84%|████████▍ | 426/505 [01:08<00:12,  6.51it/s]",
      "\r 85%|████████▍ | 427/505 [01:08<00:12,  6.14it/s]",
      "\r 85%|████████▌ | 430/505 [01:08<00:11,  6.65it/s]",
      "\r 86%|████████▌ | 432/505 [01:08<00:09,  7.38it/s]",
      "\r 86%|████████▌ | 434/505 [01:09<00:10,  6.89it/s]",
      "\r 86%|████████▋ | 436/505 [01:09<00:09,  7.06it/s]",
      "\r 87%|████████▋ | 437/505 [01:09<00:13,  5.19it/s]",
      "\r 87%|████████▋ | 439/505 [01:09<00:11,  5.80it/s]",
      "\r 87%|████████▋ | 440/505 [01:10<00:13,  4.74it/s]",
      "\r 88%|████████▊ | 442/505 [01:10<00:11,  5.44it/s]",
      "\r 88%|████████▊ | 443/505 [01:10<00:13,  4.43it/s]",
      "\r 88%|████████▊ | 444/505 [01:10<00:12,  4.74it/s]",
      "\r 89%|████████▊ | 447/505 [01:11<00:10,  5.44it/s]",
      "\r 89%|████████▉ | 450/505 [01:11<00:08,  6.58it/s]",
      "\r 89%|████████▉ | 451/505 [01:11<00:10,  5.09it/s]",
      "\r 90%|████████▉ | 452/505 [01:12<00:10,  5.21it/s]",
      "\r 90%|█████████ | 456/505 [01:12<00:06,  7.02it/s]",
      "\r 91%|█████████ | 458/505 [01:12<00:07,  5.90it/s]",
      "\r 91%|█████████▏| 462/505 [01:12<00:05,  7.19it/s]",
      "\r 92%|█████████▏| 464/505 [01:13<00:05,  6.98it/s]",
      "\r 92%|█████████▏| 466/505 [01:13<00:05,  7.58it/s]",
      "\r 93%|█████████▎| 468/505 [01:13<00:05,  7.11it/s]",
      "\r 93%|█████████▎| 469/505 [01:13<00:05,  6.53it/s]",
      "\r 93%|█████████▎| 470/505 [01:14<00:06,  5.27it/s]",
      "\r 93%|█████████▎| 471/505 [01:14<00:06,  5.20it/s]",
      "\r 93%|█████████▎| 472/505 [01:14<00:06,  4.74it/s]",
      "\r 94%|█████████▎| 473/505 [01:14<00:06,  4.93it/s]",
      "\r 94%|█████████▍| 475/505 [01:15<00:05,  5.20it/s]",
      "\r 94%|█████████▍| 476/505 [01:15<00:05,  5.31it/s]",
      "\r 94%|█████████▍| 477/505 [01:15<00:05,  4.76it/s]",
      "\r 95%|█████████▌| 481/505 [01:15<00:04,  5.98it/s]",
      "\r 95%|█████████▌| 482/505 [01:16<00:04,  4.93it/s]",
      "\r 96%|█████████▌| 485/505 [01:16<00:03,  6.05it/s]",
      "\r 96%|█████████▋| 487/505 [01:16<00:02,  6.15it/s]",
      "\r 97%|█████████▋| 488/505 [01:16<00:02,  5.99it/s]",
      "\r 97%|█████████▋| 489/505 [01:17<00:03,  4.91it/s]",
      "\r 97%|█████████▋| 492/505 [01:17<00:01,  6.55it/s]",
      "\r 98%|█████████▊| 494/505 [01:17<00:01,  6.49it/s]",
      "\r 98%|█████████▊| 496/505 [01:17<00:01,  6.84it/s]",
      "\r 99%|█████████▉| 499/505 [01:18<00:00,  7.32it/s]",
      "\r 99%|█████████▉| 500/505 [01:18<00:00,  6.48it/s]",
      "\r 99%|█████████▉| 502/505 [01:18<00:00,  6.41it/s]",
      "\r100%|██████████| 505/505 [01:18<00:00,  6.41it/s]",
      "\n"
     ],
     "output_type": "stream"
    },
    {
     "data": {
      "text/plain": "192"
     },
     "metadata": {},
     "output_type": "execute_result",
     "execution_count": 5
    }
   ],
   "source": [
    "portfolio = select_best_companies(companies.keys(), 2)\n",
    "portfolio = sorted(portfolio, key=lambda a: a[1], reverse=True)\n",
    "len(portfolio)"
   ],
   "metadata": {
    "collapsed": false,
    "pycharm": {
     "name": "#%%\n",
     "is_executing": false
    }
   }
  },
  {
   "cell_type": "code",
   "execution_count": 6,
   "outputs": [],
   "source": [
    "def stock_analise(company_name, days=10, show=False):\n",
    "    company = Company(company_name, args)\n",
    "    company.load_data()\n",
    "    company.load_model()\n",
    "    company.init_train_test_data()\n",
    "    print(\"model loss\", company.test())\n",
    "    history = np.array(company.data.Close[-days - args.seq_window:])\n",
    "    y_pred = company.predict(history[:10], days)\n",
    "    y_pred = np.insert(y_pred, 0, history[9])\n",
    "    pred_lin_model = LinearRegression().fit(np.arange(9, 10+days).reshape(-1, 1), y_pred)\n",
    "    \n",
    "    lin_model = LinearRegression().fit(np.arange(10).reshape(-1, 1), history[:10])\n",
    "    coef_10 = lin_model.coef_\n",
    "    y_lin_10 = lin_model.predict(np.arange(10 + days).reshape(-1, 1))\n",
    "    lin_model = LinearRegression().fit(np.arange(5, 10).reshape(-1, 1), history[5:10])\n",
    "    coef_5 = lin_model.coef_\n",
    "    y_lin_5 = lin_model.predict(np.arange(10 + days).reshape(-1, 1))\n",
    "    y_pred_lin_10 = pred_lin_model.predict(np.arange(10 + days).reshape(-1, 1))\n",
    "    coef_pred = pred_lin_model.coef_\n",
    "    x = company.data.Date[-args.seq_window-days:]\n",
    "    plt.plot(x, y_lin_10, linestyle='dashdot', color=\"silver\", label='y10')\n",
    "    plt.plot(x, y_pred_lin_10, color='pink', label='p10')\n",
    "    plt.plot(x, y_lin_5, linestyle='dashed', color=\"silver\", label='y5')\n",
    "    plt.plot(x[:-days], history[:-days], color='black')\n",
    "    plt.xticks(rotation='vertical')\n",
    "    if show:\n",
    "        plt.plot(x[9:], history[9:])\n",
    "    plt.plot(np.arange(9, 10 + days), y_pred, color='r')\n",
    "    plt.legend(loc=4)\n",
    "    plt.show()\n",
    "    return coef_10[0], coef_5[0], coef_pred[0]\n"
   ],
   "metadata": {
    "collapsed": false,
    "pycharm": {
     "name": "#%%\n",
     "is_executing": false
    }
   }
  },
  {
   "cell_type": "code",
   "execution_count": 59,
   "outputs": [
    {
     "name": "stdout",
     "text": [
      "NBL Noble Energy Inc\n",
      "model loss 0.038692255830219915\n",
      "(-0.03612125281131625, -0.06900005340576174, 0.04889447348458427)\n"
     ],
     "output_type": "stream"
    },
    {
     "data": {
      "text/plain": "<Figure size 432x288 with 1 Axes>",
      "image/png": "[encoded data removed]"
     },
     "metadata": {
      "needs_background": "light"
     },
     "output_type": "display_data"
    }
   ],
   "source": [
    "company_symbol = portfolio[9][0]\n",
    "print(company_symbol, companies[company_symbol])\n",
    "print(stock_analise(company_symbol, 5, True))"
   ],
   "metadata": {
    "collapsed": false,
    "pycharm": {
     "name": "#%%\n",
     "is_executing": false
    }
   }
  },
  {
   "cell_type": "code",
   "execution_count": 57,
   "outputs": [
    {
     "name": "stdout",
     "text": [
      "--querysearch \"$NBL\" --lang en --maxtweets 100 --output D:\\nikita\\twitter_stock\\stock_recom\\dataset\\twitter\\companies\\temp.csv --since 2020-06-30 --until 2020-07-01\n",
      "2020-06-30 2020-07-01\n--querysearch \"$NBL\" --lang en --maxtweets 100 --output D:\\nikita\\twitter_stock\\stock_recom\\dataset\\twitter\\companies\\temp.csv --since 2020-07-01 --until 2020-07-02\n",
      "2020-07-01 2020-07-02\n--querysearch \"$NBL\" --lang en --maxtweets 100 --output D:\\nikita\\twitter_stock\\stock_recom\\dataset\\twitter\\companies\\temp.csv --since 2020-07-02 --until 2020-07-03\n",
      "2020-07-02 2020-07-03\n--querysearch \"$NBL\" --lang en --maxtweets 100 --output D:\\nikita\\twitter_stock\\stock_recom\\dataset\\twitter\\companies\\temp.csv --since 2020-07-03 --until 2020-07-04\n",
      "2020-07-03 2020-07-04\n--querysearch \"$NBL\" --lang en --maxtweets 100 --output D:\\nikita\\twitter_stock\\stock_recom\\dataset\\twitter\\companies\\temp.csv --since 2020-07-04 --until 2020-07-05\n",
      "2020-07-04 2020-07-05\n--querysearch \"$NBL\" --lang en --maxtweets 100 --output D:\\nikita\\twitter_stock\\stock_recom\\dataset\\twitter\\companies\\temp.csv --since 2020-07-05 --until 2020-07-06\n",
      "2020-07-05 2020-07-06\n--querysearch \"$NBL\" --lang en --maxtweets 100 --output D:\\nikita\\twitter_stock\\stock_recom\\dataset\\twitter\\companies\\temp.csv --since 2020-07-06 --until 2020-07-07\n",
      "2020-07-06 2020-07-07\n--querysearch \"$NBL\" --lang en --maxtweets 100 --output D:\\nikita\\twitter_stock\\stock_recom\\dataset\\twitter\\companies\\temp.csv --since 2020-07-07 --until 2020-07-08\n",
      "2020-07-07 2020-07-08\n--querysearch \"$NBL\" --lang en --maxtweets 100 --output D:\\nikita\\twitter_stock\\stock_recom\\dataset\\twitter\\companies\\temp.csv --since 2020-07-08 --until 2020-07-09\n",
      "2020-07-08 2020-07-09\n--querysearch \"$NBL\" --lang en --maxtweets 100 --output D:\\nikita\\twitter_stock\\stock_recom\\dataset\\twitter\\companies\\temp.csv --since 2020-07-09 --until 2020-07-10\n",
      "2020-07-09 2020-07-10\n--querysearch \"$NBL\" --lang en --maxtweets 100 --output D:\\nikita\\twitter_stock\\stock_recom\\dataset\\twitter\\companies\\temp.csv --since 2020-07-10 --until 2020-07-11\n",
      "2020-07-10 2020-07-11\n--querysearch \"$NBL\" --lang en --maxtweets 100 --output D:\\nikita\\twitter_stock\\stock_recom\\dataset\\twitter\\companies\\temp.csv --since 2020-07-11 --until 2020-07-12\n",
      "2020-07-11 2020-07-12\n--querysearch \"$NBL\" --lang en --maxtweets 100 --output D:\\nikita\\twitter_stock\\stock_recom\\dataset\\twitter\\companies\\temp.csv --since 2020-07-12 --until 2020-07-13\n",
      "2020-07-12 2020-07-13\n--querysearch \"$NBL\" --lang en --maxtweets 100 --output D:\\nikita\\twitter_stock\\stock_recom\\dataset\\twitter\\companies\\temp.csv --since 2020-07-13 --until 2020-07-14\n",
      "2020-07-13 2020-07-14\n--querysearch \"$NBL\" --lang en --maxtweets 100 --output D:\\nikita\\twitter_stock\\stock_recom\\dataset\\twitter\\companies\\temp.csv --since 2020-07-14 --until 2020-07-15\n",
      "2020-07-14 2020-07-15\n--querysearch \"$NBL\" --lang en --maxtweets 100 --output D:\\nikita\\twitter_stock\\stock_recom\\dataset\\twitter\\companies\\temp.csv --since 2020-07-15 --until 2020-07-16\n",
      "2020-07-15 2020-07-16\n--querysearch \"$NBL\" --lang en --maxtweets 100 --output D:\\nikita\\twitter_stock\\stock_recom\\dataset\\twitter\\companies\\temp.csv --since 2020-07-16 --until 2020-07-17\n",
      "2020-07-16 2020-07-17\n--querysearch \"$NBL\" --lang en --maxtweets 100 --output D:\\nikita\\twitter_stock\\stock_recom\\dataset\\twitter\\companies\\temp.csv --since 2020-07-17 --until 2020-07-18\n",
      "2020-07-17 2020-07-18\n--querysearch \"$NBL\" --lang en --maxtweets 100 --output D:\\nikita\\twitter_stock\\stock_recom\\dataset\\twitter\\companies\\temp.csv --since 2020-07-18 --until 2020-07-19\n",
      "2020-07-18 2020-07-19\n--querysearch \"$NBL\" --lang en --maxtweets 100 --output D:\\nikita\\twitter_stock\\stock_recom\\dataset\\twitter\\companies\\temp.csv --since 2020-07-19 --until 2020-07-20\n",
      "2020-07-19 2020-07-20\n--querysearch \"$NBL\" --lang en --maxtweets 100 --output D:\\nikita\\twitter_stock\\stock_recom\\dataset\\twitter\\companies\\temp.csv --since 2020-07-20 --until 2020-07-21\n"
     ],
     "output_type": "stream"
    }
   ],
   "source": [
    "tweets = tw_grabber.grab_tweets(\"$\" + company_symbol, 20, 100)\n",
    "tweets = tweets[[\"date\", \"text\"]]\n",
    "tweets.date = pd.to_datetime(tweets.date) \n",
    "tweets.date = tweets.date.map(lambda d: d.date())"
   ],
   "metadata": {
    "collapsed": false,
    "pycharm": {
     "name": "#%%\n",
     "is_executing": false
    }
   }
  },
  {
   "cell_type": "code",
   "execution_count": 27,
   "outputs": [],
   "source": [
    "bert_args = TrainingArguments()\n",
    "bert_args.output_dir = \"../\" + bert_args.output_dir\n",
    "twitter_sent_model = TwitterSentimentModel(bert_args)"
   ],
   "metadata": {
    "collapsed": false,
    "pycharm": {
     "name": "#%%\n",
     "is_executing": false
    }
   }
  },
  {
   "cell_type": "code",
   "execution_count": 63,
   "outputs": [
    {
     "name": "stdout",
     "text": [
      "2020-07-01 15 0.83004886\n2020-07-02",
      " 16 0.9322041\n",
      "2020-07-03 19 0.80660963\n2020-07-04",
      " 16 0.8785653\n2020-07-05 11 0.51650983\n",
      "2020-07-06 6 0.8737206\n2020-07-07",
      " 17 0.79508996\n2020-07-08 13 0.78376377\n",
      "2020-07-09 14 0.9821562\n",
      "2020-07-10 25 0.92137957\n",
      "2020-07-11 26 0.8908248\n2020-07-12 8 0.72389376\n",
      "2020-07-13 11 0.81876224\n",
      "2020-07-14 27 0.87676734\n",
      "2020-07-15 35 0.87827766\n",
      "2020-07-16 21 0.8974947\n",
      "2020-07-17 30 0.8683595\n2020-07-18 10 0.74168336\n2020-07-19 7 0.71646214\n",
      "2020-07-20 5 0.70503736\n"
     ],
     "output_type": "stream"
    }
   ],
   "source": [
    "tweet_anal = {}\n",
    "day = datetime(2020, 6, 30)\n",
    "for i in range(20):    \n",
    "    day_tweets = set(tweets[tweets.date == day.date()].text.tolist())\n",
    "    if len(day_tweets) == 0: continue\n",
    "    day = day + timedelta(1)    \n",
    "    tweet_anal[day] = np.median(twitter_sent_model.analyze(day_tweets))\n",
    "    print(day.date().isoformat(), len(day_tweets), tweet_anal[day])"
   ],
   "metadata": {
    "collapsed": false,
    "pycharm": {
     "name": "#%%\n",
     "is_executing": false
    }
   }
  },
  {
   "cell_type": "code",
   "execution_count": 64,
   "outputs": [
    {
     "name": "stdout",
     "text": [
      "2020-07-01 0.83004886\n2020-07-02 0.9322041\n2020-07-03 0.80660963\n2020-07-04 0.8785653\n2020-07-05 0.51650983\n2020-07-06 0.8737206\n2020-07-07 0.79508996\n2020-07-08 0.78376377\n2020-07-09 0.9821562\n2020-07-10 0.92137957\n2020-07-11 0.8908248\n2020-07-12 0.72389376\n2020-07-13 0.81876224\n2020-07-14 0.87676734\n2020-07-15 0.87827766\n2020-07-16 0.8974947\n2020-07-17 0.8683595\n2020-07-18 0.74168336\n2020-07-19 0.71646214\n2020-07-20 0.70503736\n"
     ],
     "output_type": "stream"
    },
    {
     "data": {
      "text/plain": "           date                                               text\n0    2020-06-30  Tuesday's Top Flow in #energy sector, Buy Flow...\n1    2020-06-30  Short sale volume (not short interest) for $AP...\n2    2020-06-30  $NBL short % to float is 5.16% http://sunshine...\n3    2020-06-30  $NBL enters a Downtrend as Momentum Indicator ...\n4    2020-06-30  Do you like $NBL? I like the looks of it long ...\n..          ...                                                ...\n328  2020-07-19  A Beginner’s Guide to Stock Investing. On Amaz...\n329  2020-07-19  2020-07-17 Short sale volume (not short intere...\n330  2020-07-19  $NBL in Uptrend: Stochastic indicator is remai...\n331  2020-07-19  4 months later $lwp is on the list of 5 non #b...\n332  2020-07-19  $nbl a #brewery #stock listed in #nigeria was ...\n\n[333 rows x 2 columns]",
      "text/html": "<div>\n<style scoped>\n    .dataframe tbody tr th:only-of-type {\n        vertical-align: middle;\n    }\n\n    .dataframe tbody tr th {\n        vertical-align: top;\n    }\n\n    .dataframe thead th {\n        text-align: right;\n    }\n</style>\n<table border=\"1\" class=\"dataframe\">\n  <thead>\n    <tr style=\"text-align: right;\">\n      <th></th>\n      <th>date</th>\n      <th>text</th>\n    </tr>\n  </thead>\n  <tbody>\n    <tr>\n      <th>0</th>\n      <td>2020-06-30</td>\n      <td>Tuesday's Top Flow in #energy sector, Buy Flow...</td>\n    </tr>\n    <tr>\n      <th>1</th>\n      <td>2020-06-30</td>\n      <td>Short sale volume (not short interest) for $AP...</td>\n    </tr>\n    <tr>\n      <th>2</th>\n      <td>2020-06-30</td>\n      <td>$NBL short % to float is 5.16% http://sunshine...</td>\n    </tr>\n    <tr>\n      <th>3</th>\n      <td>2020-06-30</td>\n      <td>$NBL enters a Downtrend as Momentum Indicator ...</td>\n    </tr>\n    <tr>\n      <th>4</th>\n      <td>2020-06-30</td>\n      <td>Do you like $NBL? I like the looks of it long ...</td>\n    </tr>\n    <tr>\n      <th>...</th>\n      <td>...</td>\n      <td>...</td>\n    </tr>\n    <tr>\n      <th>328</th>\n      <td>2020-07-19</td>\n      <td>A Beginner’s Guide to Stock Investing. On Amaz...</td>\n    </tr>\n    <tr>\n      <th>329</th>\n      <td>2020-07-19</td>\n      <td>2020-07-17 Short sale volume (not short intere...</td>\n    </tr>\n    <tr>\n      <th>330</th>\n      <td>2020-07-19</td>\n      <td>$NBL in Uptrend: Stochastic indicator is remai...</td>\n    </tr>\n    <tr>\n      <th>331</th>\n      <td>2020-07-19</td>\n      <td>4 months later $lwp is on the list of 5 non #b...</td>\n    </tr>\n    <tr>\n      <th>332</th>\n      <td>2020-07-19</td>\n      <td>$nbl a #brewery #stock listed in #nigeria was ...</td>\n    </tr>\n  </tbody>\n</table>\n<p>333 rows × 2 columns</p>\n</div>"
     },
     "metadata": {},
     "output_type": "execute_result",
     "execution_count": 64
    }
   ],
   "source": [
    "for d, val in tweet_anal.items():\n",
    "    print(d.date().isoformat(), val)\n",
    "tweets"
   ],
   "metadata": {
    "collapsed": false,
    "pycharm": {
     "name": "#%%\n",
     "is_executing": false
    }
   }
  },
  {
   "cell_type": "code",
   "execution_count": 49,
   "outputs": [
    {
     "data": {
      "text/plain": "<Figure size 432x288 with 1 Axes>",
      "image/png": "[encoded data removed]"
     },
     "metadata": {
      "needs_background": "light"
     },
     "output_type": "display_data"
    }
   ],
   "source": [
    "x = tweet_anal.keys()\n",
    "y = tweet_anal.values()\n",
    "\n",
    "plt.bar(x, y)\n",
    "plt.xticks(rotation='vertical')\n",
    "plt.show()"
   ],
   "metadata": {
    "collapsed": false,
    "pycharm": {
     "name": "#%%\n",
     "is_executing": false
    }
   }
  },
  {
   "cell_type": "code",
   "execution_count": 12,
   "outputs": [],
   "source": [
    "df = pd.read_csv('../dataset/yahoo/' + company_symbol + '.csv')"
   ],
   "metadata": {
    "collapsed": false,
    "pycharm": {
     "name": "#%%\n",
     "is_executing": false
    }
   }
  },
  {
   "cell_type": "code",
   "execution_count": 15,
   "outputs": [],
   "source": [
    "# my_portfolio = {\n",
    "#     'ABMD': 1, 'AAP': 1, 'AEP': 1\n",
    "# }\n",
    "# "
   ],
   "metadata": {
    "collapsed": false,
    "pycharm": {
     "name": "#%%\n",
     "is_executing": false
    }
   }
  },
  {
   "cell_type": "code",
   "execution_count": 16,
   "outputs": [],
   "source": [
    "# def portfolio_value(my_portfolio, days):\n",
    "#     total = 0\n",
    "#     for company_name, n in my_portfolio.items():\n",
    "#         company = Company(company_name, args)\n",
    "#         company.load_data()\n",
    "#         total += company.data.Close.tolist()[-days-1] * n\n",
    "#         print(company_name, company.data.Close.tolist()[-n])\n",
    "#     print(total)\n",
    "#     return total\n",
    "# "
   ],
   "metadata": {
    "collapsed": false,
    "pycharm": {
     "name": "#%%\n",
     "is_executing": false
    }
   }
  },
  {
   "cell_type": "code",
   "execution_count": 17,
   "outputs": [],
   "source": [
    "# stock_value = portfolio_value(my_portfolio, 10)\n",
    "# cash = 500 - stock_value\n",
    "# "
   ],
   "metadata": {
    "collapsed": false,
    "pycharm": {
     "name": "#%%\n",
     "is_executing": false
    }
   }
  },
  {
   "cell_type": "code",
   "execution_count": 18,
   "outputs": [],
   "source": [
    "# days = 1\n",
    "# for company_name in my_portfolio.keys():\n",
    "#     print(company_name)\n",
    "#     k1, k2, k_p = stock_analise(company_name, days)\n",
    "#     if k_p > 0 and (k1 > 0 or k2 > 0):\n",
    "#         print(\"покупать\")\n",
    "#     else:\n",
    "#         print(\"продать\")\n",
    "# "
   ],
   "metadata": {
    "collapsed": false,
    "pycharm": {
     "name": "#%%\n",
     "is_executing": false
    }
   }
  },
  {
   "cell_type": "code",
   "execution_count": 19,
   "outputs": [],
   "source": [
    "# def sell(my_portfolio, sell_stock):\n",
    "#     cash = 0\n",
    "#     for company_name in sell_stock:\n",
    "#         company = Company(company_name, args)\n",
    "#         company.load_data()\n",
    "#         cash += company.data.Close.tolist()[-days-1] * my_portfolio[company_name]\n",
    "#         del my_portfolio[company_name]\n",
    "#     return cash\n",
    "# \n",
    "# "
   ],
   "metadata": {
    "collapsed": false,
    "pycharm": {
     "name": "#%%\n",
     "is_executing": false
    }
   }
  },
  {
   "cell_type": "code",
   "execution_count": 20,
   "outputs": [],
   "source": [
    "# # cash += sell(my_portfolio, ['AAP'])\n",
    "# stock_value = portfolio_value(my_portfolio, days)\n",
    "# print(stock_value + cash)\n"
   ],
   "metadata": {
    "collapsed": false,
    "pycharm": {
     "name": "#%%\n",
     "is_executing": false
    }
   }
  }
 ],
 "metadata": {
  "kernelspec": {
   "display_name": "Python 3",
   "language": "python",
   "name": "python3"
  },
  "language_info": {
   "codemirror_mode": {
    "name": "ipython",
    "version": 2
   },
   "file_extension": ".py",
   "mimetype": "text/x-python",
   "name": "python",
   "nbconvert_exporter": "python",
   "pygments_lexer": "ipython2",
   "version": "2.7.6"
  },
  "pycharm": {
   "stem_cell": {
    "cell_type": "raw",
    "source": [],
    "metadata": {
     "collapsed": false
    }
   }
  }
 },
 "nbformat": 4,
 "nbformat_minor": 0
}